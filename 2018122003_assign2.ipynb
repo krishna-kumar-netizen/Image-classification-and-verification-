{
  "nbformat": 4,
  "nbformat_minor": 0,
  "metadata": {
    "kernelspec": {
      "name": "python3",
      "display_name": "Python 3"
    },
    "language_info": {
      "codemirror_mode": {
        "name": "ipython",
        "version": 3
      },
      "file_extension": ".py",
      "mimetype": "text/x-python",
      "name": "python",
      "nbconvert_exporter": "python",
      "pygments_lexer": "ipython3",
      "version": "3.6.3"
    },
    "colab": {
      "name": "2018122003_assign2.ipynb",
      "provenance": [],
      "collapsed_sections": []
    },
    "accelerator": "GPU"
  },
  "cells": [
    {
      "cell_type": "markdown",
      "metadata": {
        "id": "vhh-uNMuVvca",
        "colab_type": "text"
      },
      "source": [
        "# Assignment 2\n",
        "The objective of this assignment is to get you familiarizewith  the  problems  of  `classification`  and  `verification`with a popular problem space of `face`\n",
        "\n",
        "This jupyter notebook is meant to be used in conjunction with the full questions in the assignment pdf.\n",
        "\n",
        "## Instructions\n",
        "- Write your code and analyses in the indicated cells.\n",
        "- Ensure that this notebook runs without errors when the cells are run in sequence.\n",
        "- Do not attempt to change the contents of the other cells.\n",
        "\n",
        "## Allowed Libraries\n",
        "- All libraries are allowed \n",
        "\n",
        "## Datasets \n",
        "- 3 datasets are provided. Load the data from the drive [link](!https://drive.google.com/file/d/1ujsKv9W5eidb4TXt1pnsqwDKVDFtzZTh/view?usp=sharing).\n",
        "- Unzip the downloaded file and store the files in a folder called `datasets`. Keep the `datasets` folder in the same directory as of the jupyter notebook \n",
        "\n",
        "## Submission\n",
        "- Ensure that this notebook runs without errors when the cells are run in sequence.\n",
        "- Rename the notebook to `<roll_number>.ipynb` and submit ONLY the notebook file on moodle.\n",
        "- Upload  the  notebook,  report  and  classification  results as a zip file to moodle. Name the zip file as `<rollnumber>_assignment2.zip`"
      ]
    },
    {
      "cell_type": "code",
      "metadata": {
        "id": "peDaD6KofGgh",
        "colab_type": "code",
        "outputId": "93f6d8b2-c047-462c-f6b4-2c5abead6463",
        "colab": {
          "base_uri": "https://localhost:8080/",
          "height": 129
        }
      },
      "source": [
        "from google.colab import drive\n",
        "drive.mount('/content/drive')"
      ],
      "execution_count": 2,
      "outputs": [
        {
          "output_type": "stream",
          "text": [
            "Go to this URL in a browser: https://accounts.google.com/o/oauth2/auth?client_id=947318989803-6bn6qk8qdgf4n4g3pfee6491hc0brc4i.apps.googleusercontent.com&redirect_uri=urn%3Aietf%3Awg%3Aoauth%3A2.0%3Aoob&scope=email%20https%3A%2F%2Fwww.googleapis.com%2Fauth%2Fdocs.test%20https%3A%2F%2Fwww.googleapis.com%2Fauth%2Fdrive%20https%3A%2F%2Fwww.googleapis.com%2Fauth%2Fdrive.photos.readonly%20https%3A%2F%2Fwww.googleapis.com%2Fauth%2Fpeopleapi.readonly&response_type=code\n",
            "\n",
            "Enter your authorization code:\n",
            "··········\n",
            "Mounted at /content/drive\n"
          ],
          "name": "stdout"
        }
      ]
    },
    {
      "cell_type": "code",
      "metadata": {
        "id": "gZnYEB3PVvci",
        "colab_type": "code",
        "outputId": "31f5feb9-ad25-4bd3-f58f-ffaeb9a7f4cf",
        "colab": {
          "base_uri": "https://localhost:8080/",
          "height": 276
        }
      },
      "source": [
        "# Installing Libraries\n",
        "!pip install scikit-learn matplotlib Pillow"
      ],
      "execution_count": 0,
      "outputs": [
        {
          "output_type": "stream",
          "text": [
            "Requirement already satisfied: scikit-learn in /usr/local/lib/python3.6/dist-packages (0.21.3)\n",
            "Requirement already satisfied: matplotlib in /usr/local/lib/python3.6/dist-packages (3.1.1)\n",
            "Requirement already satisfied: Pillow in /usr/local/lib/python3.6/dist-packages (4.3.0)\n",
            "Requirement already satisfied: joblib>=0.11 in /usr/local/lib/python3.6/dist-packages (from scikit-learn) (0.14.0)\n",
            "Requirement already satisfied: numpy>=1.11.0 in /usr/local/lib/python3.6/dist-packages (from scikit-learn) (1.17.3)\n",
            "Requirement already satisfied: scipy>=0.17.0 in /usr/local/lib/python3.6/dist-packages (from scikit-learn) (1.3.1)\n",
            "Requirement already satisfied: kiwisolver>=1.0.1 in /usr/local/lib/python3.6/dist-packages (from matplotlib) (1.1.0)\n",
            "Requirement already satisfied: python-dateutil>=2.1 in /usr/local/lib/python3.6/dist-packages (from matplotlib) (2.6.1)\n",
            "Requirement already satisfied: pyparsing!=2.0.4,!=2.1.2,!=2.1.6,>=2.0.1 in /usr/local/lib/python3.6/dist-packages (from matplotlib) (2.4.2)\n",
            "Requirement already satisfied: cycler>=0.10 in /usr/local/lib/python3.6/dist-packages (from matplotlib) (0.10.0)\n",
            "Requirement already satisfied: olefile in /usr/local/lib/python3.6/dist-packages (from Pillow) (0.46)\n",
            "Requirement already satisfied: setuptools in /usr/local/lib/python3.6/dist-packages (from kiwisolver>=1.0.1->matplotlib) (41.4.0)\n",
            "Requirement already satisfied: six>=1.5 in /usr/local/lib/python3.6/dist-packages (from python-dateutil>=2.1->matplotlib) (1.12.0)\n"
          ],
          "name": "stdout"
        }
      ]
    },
    {
      "cell_type": "code",
      "metadata": {
        "id": "PpSJplCpVvcz",
        "colab_type": "code",
        "colab": {}
      },
      "source": [
        "# Basic Imports\n",
        "import os\n",
        "import sys\n",
        "import warnings\n",
        "import numpy as  np\n",
        "import pandas as pd\n",
        "from scipy import linalg\n",
        "\n",
        "# Loading and plotting data\n",
        "from PIL import Image\n",
        "import matplotlib.pyplot as plt \n",
        "from mpl_toolkits.mplot3d import Axes3D\n",
        "\n",
        "# Features\n",
        "from sklearn.decomposition import PCA\n",
        "from sklearn.decomposition import KernelPCA\n",
        "from sklearn.discriminant_analysis import _class_means,_class_cov\n",
        "from sklearn.discriminant_analysis import LinearDiscriminantAnalysis as LDA\n",
        "from sklearn.manifold import TSNE\n",
        "from numpy import linalg as LA\n",
        "\n",
        "\n",
        "plt.ion()\n",
        "%matplotlib inline"
      ],
      "execution_count": 0,
      "outputs": []
    },
    {
      "cell_type": "markdown",
      "metadata": {
        "id": "3d-N0hNOVvc-",
        "colab_type": "text"
      },
      "source": [
        "# Parameters\n",
        "- Image size: Bigger images create better representation but would require more computation. Choose the correct image size based on your Laptop configuration. \n",
        "- is_grayscale: Should you take grayscale images? Or rgb images? Choose whichever gives better representation for classification. "
      ]
    },
    {
      "cell_type": "code",
      "metadata": {
        "id": "DDzreMiWVvdD",
        "colab_type": "code",
        "colab": {}
      },
      "source": [
        "opt = {\n",
        "    'image_size': 32,\n",
        "    'is_grayscale': True,\n",
        "    'val_split': 0.75\n",
        "}"
      ],
      "execution_count": 0,
      "outputs": []
    },
    {
      "cell_type": "markdown",
      "metadata": {
        "id": "wioQfXWBVvdM",
        "colab_type": "text"
      },
      "source": [
        "### Load Dataset"
      ]
    },
    {
      "cell_type": "code",
      "metadata": {
        "editable": false,
        "id": "a-tY52heVvdN",
        "colab_type": "code",
        "colab": {}
      },
      "source": [
        "cfw_dict = {'Amitabhbachan': 0,\n",
        "    'AamirKhan': 1,\n",
        "    'DwayneJohnson': 2,\n",
        "    'AishwaryaRai': 3,\n",
        "    'BarackObama': 4,\n",
        "    'NarendraModi': 5,\n",
        "    'ManmohanSingh': 6,\n",
        "    'VladimirPutin': 7}\n",
        "\n",
        "imfdb_dict = {'MadhuriDixit': 0,\n",
        "     'Kajol': 1,\n",
        "     'SharukhKhan': 2,\n",
        "     'ShilpaShetty': 3,\n",
        "     'AmitabhBachan': 4,\n",
        "     'KatrinaKaif': 5,\n",
        "     'AkshayKumar': 6,\n",
        "     'Amir': 7}\n",
        "\n",
        "# Load Image using PIL for dataset\n",
        "def load_image(path):\n",
        "    im = Image.open(path).convert('L' if opt['is_grayscale'] else 'RGB')\n",
        "    im = im.resize((opt['image_size'],opt['image_size']))\n",
        "    im = np.array(im)\n",
        "    im = im/256\n",
        "    return im\n",
        "\n",
        "# Load the full data from directory\n",
        "def load_data(dir_path):\n",
        "    image_list = []\n",
        "    y_list = []\n",
        "    \n",
        "    if \"CFW\" in dir_path:\n",
        "        label_dict = cfw_dict\n",
        "\n",
        "    elif \"yale\" in dir_path.lower():\n",
        "        label_dict = {}\n",
        "        for i in range(15):\n",
        "            label_dict[str(i+1)] = i\n",
        "    elif \"IMFDB\" in dir_path:\n",
        "        label_dict = imfdb_dict\n",
        "    else:\n",
        "        raise KeyError(\"Dataset not found.\")\n",
        "    \n",
        "    \n",
        "    for filename in sorted(os.listdir(dir_path)):\n",
        "        if filename.endswith(\".png\"):\n",
        "            im = load_image(os.path.join(dir_path,filename))\n",
        "            y = filename.split('_')[0]\n",
        "            y = label_dict[y] \n",
        "            image_list.append(im)\n",
        "            y_list.append(y)\n",
        "        else:\n",
        "            continue\n",
        "\n",
        "    image_list = np.array(image_list)\n",
        "    y_list = np.array(y_list)\n",
        "\n",
        "    print(\"Dataset shape:\",image_list.shape)\n",
        "\n",
        "    return image_list,y_list\n",
        "\n",
        "# Display N Images in a nice format\n",
        "def disply_images(imgs,classes,row=1,col=2,w=64,h=64):\n",
        "    fig=plt.figure(figsize=(8, 8))\n",
        "    for i in range(1, col*row +1):\n",
        "        img = imgs[i-1]\n",
        "        fig.add_subplot(row, col, i)\n",
        "        \n",
        "        if opt['is_grayscale']:\n",
        "            plt.imshow(img , cmap='gray') \n",
        "        else:\n",
        "            plt.imshow(img)\n",
        "        \n",
        "        plt.title(\"Class:{}\".format(classes[i-1]))\n",
        "        plt.axis('off')\n",
        "    plt.show()"
      ],
      "execution_count": 0,
      "outputs": []
    },
    {
      "cell_type": "code",
      "metadata": {
        "id": "JedztG4wVvdU",
        "colab_type": "code",
        "outputId": "bd0b7e60-7603-42a0-a244-a90046b6e550",
        "colab": {
          "base_uri": "https://localhost:8080/",
          "height": 35
        }
      },
      "source": [
        "# Loading the dataset\n",
        "# eg.\n",
        "dirpath = './dataset/Yale_face_database'\n",
        "# dirpath = './dataset/IMFDB'\n",
        "# dirpath = './dataset/IIIT-CFW'\n",
        "X,y = load_data(dirpath)\n",
        "N,H,W = X.shape[0:3]\n",
        "C = 1 if opt['is_grayscale'] else X.shape[3]"
      ],
      "execution_count": 6,
      "outputs": [
        {
          "output_type": "stream",
          "text": [
            "Dataset shape: (165, 32, 32)\n"
          ],
          "name": "stdout"
        }
      ]
    },
    {
      "cell_type": "code",
      "metadata": {
        "editable": false,
        "id": "RxVi-owJVvda",
        "colab_type": "code",
        "outputId": "be3510d1-784d-4a93-cf5d-b559242cd0d5",
        "colab": {
          "base_uri": "https://localhost:8080/",
          "height": 361
        }
      },
      "source": [
        "# Show sample images\n",
        "ind = np.random.randint(0,y.shape[0],10)\n",
        "disply_images(X[ind,...],y[ind], row=2,col=5,w=64,h=64)"
      ],
      "execution_count": 7,
      "outputs": [
        {
          "output_type": "display_data",
          "data": {
            "image/png": "[encoded data removed]",
            "text/plain": [
              "<Figure size 576x576 with 10 Axes>"
            ]
          },
          "metadata": {
            "tags": []
          }
        }
      ]
    },
    {
      "cell_type": "markdown",
      "metadata": {
        "id": "-dnRp3q1Vvdf",
        "colab_type": "text"
      },
      "source": [
        "# Features\n",
        "    You are provided 6 Features. These features are:\n",
        "   - Eigen Faces / PCA \n",
        "   - Kernel PCA\n",
        "   - Fisher Face / LDA\n",
        "   - Kernel Fisher Face\n",
        "   - VGG Features \n",
        "   - Resnet Features\n",
        "\n",
        "**VGG and Resnet features are last layer features learned by training a model for image classification**\n",
        "    \n",
        "---\n"
      ]
    },
    {
      "cell_type": "code",
      "metadata": {
        "editable": false,
        "id": "4C4_i6dAVvdj",
        "colab_type": "code",
        "colab": {}
      },
      "source": [
        "# Flatten to apply PCA/LDA\n",
        "X = X.reshape((N,H*W*C))"
      ],
      "execution_count": 0,
      "outputs": []
    },
    {
      "cell_type": "markdown",
      "metadata": {
        "id": "YDvFkK6iVvdr",
        "colab_type": "text"
      },
      "source": [
        "###  1. Eigen Face:\n",
        "Use principal component analysis to get the eigen faces. \n",
        "Go through the [documentation](!http://scikit-learn.org/stable/modules/generated/sklearn.decomposition.PCA.html) on how to use it"
      ]
    },
    {
      "cell_type": "code",
      "metadata": {
        "id": "MUm0v_N0Vvdt",
        "colab_type": "code",
        "colab": {}
      },
      "source": [
        "def get_pca(X,k):\n",
        "    \"\"\"\n",
        "        Get PCA of K dimension using the top eigen vectors \n",
        "    \"\"\"\n",
        "    pca = PCA(n_components=k)\n",
        "    X_k = pca.fit_transform(X)\n",
        "    return X_k,pca"
      ],
      "execution_count": 0,
      "outputs": []
    },
    {
      "cell_type": "markdown",
      "metadata": {
        "id": "6KY9d8XKVvdz",
        "colab_type": "text"
      },
      "source": [
        "###  2. Kernel Face:\n",
        "Use Kernel principal component analysis to get the eigen faces. \n",
        "\n",
        "There are different kernels that can be used. Eg. Poly, rbf, sigmoid. Choose the whichever gives the best result or representation. See [link](!https://data-flair.training/blogs/svm-kernel-functions/) for better understanding of these kernels  \n",
        "\n",
        "Go through the [documentation](!https://scikit-learn.org/stable/modules/generated/sklearn.decomposition.KernelPCA.html#sklearn.decomposition.KernelPCA) on how to use it different kernels in Sklearn. "
      ]
    },
    {
      "cell_type": "code",
      "metadata": {
        "id": "dmlKmbtPVvd1",
        "colab_type": "code",
        "colab": {}
      },
      "source": [
        "def get_kernel_pca(X, k,kernel='rbf', degree=3):\n",
        "    \"\"\"\n",
        "        Get PCA of K dimension using the top eigen vectors \n",
        "        @param: X => Your data flattened to D dimension\n",
        "        @param: k => Number of components\n",
        "        @param: kernel => which kernel to use (“linear” | “poly” | “rbf” | “sigmoid” | “cosine” )\n",
        "        @param: d => Degree for poly kernels. Ignored by other kernels\n",
        "    \"\"\"\n",
        "    kpca = KernelPCA(n_components=k,kernel=kernel,degree=degree,fit_inverse_transform=True)\n",
        "    X_k = kpca.fit_transform(X)\n",
        "    return X_k,kpca"
      ],
      "execution_count": 0,
      "outputs": []
    },
    {
      "cell_type": "markdown",
      "metadata": {
        "id": "JSmiwo_PVvd8",
        "colab_type": "text"
      },
      "source": [
        "### 3. Fisher Face\n",
        "Another method similar to the eigenface technique is `fisherfaces` which uses linear discriminant analysis.\n",
        "This method for facial recognition is less sensitive to variation in lighting and pose of the face than using eigenfaces. Fisherface uses labelled data to retain more of the class-specific information during the dimension reduction stage.\n",
        "\n",
        "Go through the [documentation](!https://scikit-learn.org/stable/modules/generated/sklearn.discriminant_analysis.LinearDiscriminantAnalysis.html) on how to use it different kernels in Sklearn. "
      ]
    },
    {
      "cell_type": "code",
      "metadata": {
        "id": "rxfwOF9RVvd9",
        "colab_type": "code",
        "colab": {}
      },
      "source": [
        "def get_lda(X,y, k):\n",
        "    \"\"\"\n",
        "        Get LDA of K dimension \n",
        "        @param: X => Your data flattened to D dimension\n",
        "        @param: k => Number of components\n",
        "    \"\"\"\n",
        "    lda = LDA(n_components=k)\n",
        "    X_k = lda.fit_transform(X,y)\n",
        "    return X_k,lda"
      ],
      "execution_count": 0,
      "outputs": []
    },
    {
      "cell_type": "markdown",
      "metadata": {
        "id": "UrBhXxHCVveD",
        "colab_type": "text"
      },
      "source": [
        "### 4. Kernel Fisher Face\n",
        "Use LDA using different kernels similiar to KernelPCA. Here the input is directly transformed instead of using the kernel trick.  "
      ]
    },
    {
      "cell_type": "code",
      "metadata": {
        "id": "Na6ZVIl9VveE",
        "colab_type": "code",
        "colab": {}
      },
      "source": [
        "def get_kernel_lda(X,y,k,kernel='rbf',degree=3):\n",
        "    \"\"\"\n",
        "        Get LDA of K dimension \n",
        "        @param: X => Your data flattened to D dimension\n",
        "        @param: k => Number of components\n",
        "        @param: kernel => which kernel to use ( “poly” | “rbf” | “sigmoid”)\n",
        "    \"\"\"\n",
        "    # Transform  input\n",
        "    if kernel == \"poly\":\n",
        "        X_transformed = X**degree\n",
        "    elif kernel == \"rbf\":\n",
        "        var = np.var(X)\n",
        "        X_transformed= np.exp(-X/(2*var))\n",
        "    elif kernel == \"sigmoid\":\n",
        "        X_transformed = np.tanh(X)\n",
        "    else: \n",
        "        raise NotImplementedError(\"Kernel {} Not defined\".format(kernel))\n",
        "        \n",
        "    klda = LDA(n_components=k)\n",
        "    X_k = klda.fit_transform(X,y)\n",
        "    return X_k,klda"
      ],
      "execution_count": 0,
      "outputs": []
    },
    {
      "cell_type": "markdown",
      "metadata": {
        "id": "MeI_HDqRVveJ",
        "colab_type": "text"
      },
      "source": [
        "### 5. VGG Features\n",
        "VGG Neural Networks a 19 layer CNN architecture introduced by Andrew Zisserman([Link](!https://arxiv.org/pdf/1409.1556.pdf) to paper). We are providing you with the last fully connected layer of this model.\n",
        "\n",
        "The model was trained for face classification on each dataset and each feature the dimension of 4096."
      ]
    },
    {
      "cell_type": "code",
      "metadata": {
        "id": "2oODGcjbVveL",
        "colab_type": "code",
        "colab": {}
      },
      "source": [
        "def get_vgg_features(dirpath):\n",
        "    features = np.load(os.path.join(dirpath,\"VGG19_features.npy\"))\n",
        "    return features"
      ],
      "execution_count": 0,
      "outputs": []
    },
    {
      "cell_type": "markdown",
      "metadata": {
        "id": "oNMaVXDVVveQ",
        "colab_type": "text"
      },
      "source": [
        "### 6. Resnet Features\n",
        "\n",
        "[Residual neural networks](!https://arxiv.org/pdf/1512.03385.pdf) are CNN with large depth, to effectively train these netwrorks they utilize skip connections, or short-cuts to jump over some layers. This helps solving [vanishing gradient problem](!https://en.wikipedia.org/wiki/Vanishing_gradient_problem) \n",
        "\n",
        "A 50 layer resnet model was trained for face classification on each dataset. Each feature the dimension of 2048"
      ]
    },
    {
      "cell_type": "code",
      "metadata": {
        "id": "WeINSAUKVveR",
        "colab_type": "code",
        "colab": {}
      },
      "source": [
        "def get_resnet_features(dirpath):\n",
        "    features = np.load(os.path.join(dirpath,\"resnet50_features.npy\"))\n",
        "    return features"
      ],
      "execution_count": 0,
      "outputs": []
    },
    {
      "cell_type": "markdown",
      "metadata": {
        "id": "UW60ssx2VveW",
        "colab_type": "text"
      },
      "source": [
        "# Questions\n",
        "\n",
        "1(a). What are eigen faces? \n",
        "\n",
        "___________________________\n",
        "\n",
        "Eigen faces are the name given to set of eigen vectors that are used in computer vision for solving the problem of face recognition. It is derived from the covariance matrix of the dataset. "
      ]
    },
    {
      "cell_type": "markdown",
      "metadata": {
        "id": "Aa7dJugyVveY",
        "colab_type": "text"
      },
      "source": [
        "1(b).  How many eigen vec-tors/faces are required to “satisfactorily” reconstruct a  person  in  these  three  datasets? (Don’t  forget  to make your argument based on eigen value spectrum) Show appropriate graphs, qualitative examples andmake a convincing argument."
      ]
    },
    {
      "cell_type": "code",
      "metadata": {
        "id": "VrzmIek8Vvea",
        "colab_type": "code",
        "colab": {}
      },
      "source": [
        "# Compute your features \n",
        "# eg.\n",
        "#X_3D = get_kernel_lda(X,y,32)\n",
        "# using PCA Method\n",
        "X_3D_pca,pca = get_pca(X,61)\n",
        "# using KPCA Method\n",
        "X_3D_kpca,kpca = get_kernel_pca(X,8,'rbf')\n",
        "# # using lda Method\n",
        "# X_3D_lda,lda = get_lda(X,y,32)\n",
        "# #using kernel lda Method\n",
        "# X_3D_klda,Klda = get_lda(X,y,256)\n",
        "# x1 = lda.fit_transform(X)\n",
        "#X_3D_lda,lda=get_lda(X,,32)\n",
        "#print(kpca.get_params)\n",
        "#X_inv_pca = kpca.inverse_transform(X_3D_kpca)\n",
        "#reconstruct_X = np.reshape(X_inv_pca,(N,w,h))\n",
        "# print(X_3D_lda)\n"
      ],
      "execution_count": 0,
      "outputs": []
    },
    {
      "cell_type": "code",
      "metadata": {
        "id": "v6HB58HXVvee",
        "colab_type": "code",
        "outputId": "04158f6f-49cf-4289-c59f-5353416df2b2",
        "colab": {
          "base_uri": "https://localhost:8080/",
          "height": 466
        }
      },
      "source": [
        "# Create a scatter plot  \n",
        "# eg.\n",
        "fig = plt.figure(figsize=(8,8))\n",
        "ax = fig.add_subplot(111, projection='3d')\n",
        "ax.scatter3D(X_3D_pca[:,0],X_3D_pca[:,1],X_3D_pca[:,2],c=y)\n",
        "plt.show()\n"
      ],
      "execution_count": 0,
      "outputs": [
        {
          "output_type": "display_data",
          "data": {
            "image/png": "[encoded data removed]",
            "text/plain": [
              "<Figure size 576x576 with 1 Axes>"
            ]
          },
          "metadata": {
            "tags": []
          }
        }
      ]
    },
    {
      "cell_type": "code",
      "metadata": {
        "id": "3HIWgZkzVvek",
        "colab_type": "code",
        "outputId": "447745aa-5e04-43c6-ffa6-778bf92ff219",
        "colab": {
          "base_uri": "https://localhost:8080/",
          "height": 340
        }
      },
      "source": [
        "# Plot the eigen value spectrum \n",
        "# \n",
        "\n",
        "\n",
        "eig_val,eig_vec=linalg.eig(np.cov(np.transpose(X)))\n",
        "eig_val=abs(eig_val)\n",
        "plt.stem(abs(eig_val))\n",
        "eig_sum=np.sum(eig_val)\n",
        "cumsum=(np.cumsum(eig_val))/eig_sum\n",
        "j=0\n",
        "for i in cumsum:\n",
        "  if i>=0.95:\n",
        "    index=j \n",
        "   \n",
        "    break\n",
        "  j+=1\n",
        "\n",
        "print('for k=',index,'We would be taking 95% of the eigen spectrum')"
      ],
      "execution_count": 17,
      "outputs": [
        {
          "output_type": "stream",
          "text": [
            "/usr/local/lib/python3.6/dist-packages/ipykernel_launcher.py:5: UserWarning: In Matplotlib 3.3 individual lines on a stem plot will be added as a LineCollection instead of individual lines. This significantly improves the performance of a stem plot. To remove this warning and switch to the new behaviour, set the \"use_line_collection\" keyword argument to True.\n",
            "  \"\"\"\n"
          ],
          "name": "stderr"
        },
        {
          "output_type": "stream",
          "text": [
            "for k= 61 We would be taking 95% of the eigen spectrum\n"
          ],
          "name": "stdout"
        },
        {
          "output_type": "display_data",
          "data": {
            "image/png": "[encoded data removed]",
            "text/plain": [
              "<Figure size 432x288 with 1 Axes>"
            ]
          },
          "metadata": {
            "tags": []
          }
        }
      ]
    },
    {
      "cell_type": "markdown",
      "metadata": {
        "id": "4y_1WAVHVveo",
        "colab_type": "text"
      },
      "source": [
        "1(c). Reconstruct  the  image  back for each case\n"
      ]
    },
    {
      "cell_type": "code",
      "metadata": {
        "id": "iWXmbLSmVvep",
        "colab_type": "code",
        "colab": {}
      },
      "source": [
        "def reconstruct_images(method,X_3D,n,w,h):\n",
        "    \"\"\"\n",
        "        Reconstruct the images back by just using the selected principal components. \n",
        "\n",
        "\n",
        "        You have to write the code in this code block.\n",
        "        You can change the functions provided above (eg, get_pca, get_lda) for your use case. \n",
        "            \n",
        "        @params: \n",
        "                Input parameters\n",
        "\n",
        "        @return reconstructed_X => reconstructed image\n",
        "        \n",
        "    \"\"\"\n",
        "    X_inv = method.inverse_transform(X_3D)\n",
        "    reconstruct_X = np.reshape(X_inv,(N,w,h))\n",
        "   \n",
        "    # X_inv_kpca = kpca.inverse_transform(X_3D_kpca)\n",
        "    # reconstruct_X = np.reshape(X_inv_kpca,(N,w,h))\n",
        "\n",
        "   # pass\n",
        "    #reconstruct_X = None\n",
        "    \n",
        "    return reconstruct_X  "
      ],
      "execution_count": 0,
      "outputs": []
    },
    {
      "cell_type": "code",
      "metadata": {
        "id": "cdhmoJDlVveu",
        "colab_type": "code",
        "outputId": "d634c321-de71-43a7-fcba-26a37efbf24c",
        "colab": {
          "base_uri": "https://localhost:8080/",
          "height": 433
        }
      },
      "source": [
        "# Display results \n",
        "# PCA\n",
        "X_reconstructed_pca = reconstruct_images(pca,X_3D_pca,400,32,32)\n",
        "# Kernel PCA\n",
        "# X_reconstructed_kpca = reconstruct_images(kpca,X_3D_kpca,400,32,32)\n",
        "\n",
        "# Display random images\n",
        "ind = np.random.randint(0,y.shape[0],6)\n",
        "disply_images(X_reconstructed_pca[ind,...],y[ind],row=2,col=3)\n",
        "\n",
        "# Show the reconstruction error\n",
        "X_reconstructed_pca =  X_reconstructed_pca.reshape((N,H*W*C))\n",
        "\n",
        "print(np.sqrt(np.mean((X - X_reconstructed_pca)**2)))\n",
        "#print(X_reconstructed.shape) "
      ],
      "execution_count": 19,
      "outputs": [
        {
          "output_type": "display_data",
          "data": {
            "image/png": "[encoded data removed]",
            "text/plain": [
              "<Figure size 576x576 with 6 Axes>"
            ]
          },
          "metadata": {
            "tags": []
          }
        },
        {
          "output_type": "stream",
          "text": [
            "0.054545473337739805\n"
          ],
          "name": "stdout"
        }
      ]
    },
    {
      "cell_type": "markdown",
      "metadata": {
        "id": "gebdNoI_Vvez",
        "colab_type": "text"
      },
      "source": [
        "1(d). Which person/identity is difficult to represent com-pactly with fewer eigen vectors?  Why is that?  Explain with your empirical observations and intuitive answers\n",
        "##--------------------------------------------------------------------------------------------------------------------------------------------------------------\n",
        "Ans. According to the empirical observations the order of classses from worst to best represented classes are 6 0 5 3 2 4 7 1 for IMFDB database. "
      ]
    },
    {
      "cell_type": "code",
      "metadata": {
        "id": "Nt6fLc7AVve0",
        "colab_type": "code",
        "outputId": "21c6ef8a-08fa-40d2-da5b-7461386f3548",
        "colab": {
          "base_uri": "https://localhost:8080/",
          "height": 109
        }
      },
      "source": [
        "# code goes here\n",
        "ind = range(8)\n",
        "ind=list(range(0,400,50))\n",
        "clas=[]\n",
        "for i in ind:\n",
        "  loss=np.sqrt(np.mean((X[i:i+50] - X_reconstructed_pca[i:i+50])**2))\n",
        "  # print('loss for for c:',loss)\n",
        "  clas.append(loss)\n",
        "# print(max(clas))\n",
        "cla=np.argsort(clas)[::-1]\n",
        "print(cla)\n"
      ],
      "execution_count": 20,
      "outputs": [
        {
          "output_type": "stream",
          "text": [
            "[7 6 5 4 1 3 2 0]\n"
          ],
          "name": "stdout"
        },
        {
          "output_type": "stream",
          "text": [
            "/usr/local/lib/python3.6/dist-packages/numpy/core/fromnumeric.py:3257: RuntimeWarning: Mean of empty slice.\n",
            "  out=out, **kwargs)\n",
            "/usr/local/lib/python3.6/dist-packages/numpy/core/_methods.py:161: RuntimeWarning: invalid value encountered in double_scalars\n",
            "  ret = ret.dtype.type(ret / rcount)\n"
          ],
          "name": "stderr"
        }
      ]
    },
    {
      "cell_type": "markdown",
      "metadata": {
        "id": "KL0Rje4EVve5",
        "colab_type": "text"
      },
      "source": [
        "2(a). Use any classifier(MLP, Logistic regression, SVM, Decision Trees) and find the classification accuracy. \n",
        "\n",
        "2(b)Which method works well? Do a comparitivestudy. \n",
        "\n",
        "\n",
        "You already know the paper [Face Recognition Us-ing  Kernel  Methods](!http://face-rec.org/algorithms/Kernel/nips01.pdf) .See  this  as  an  example for empirical analysis of different features/classification."
      ]
    },
    {
      "cell_type": "code",
      "metadata": {
        "id": "3_aWhV8WVve6",
        "colab_type": "code",
        "colab": {}
      },
      "source": [
        "# Define your classifier here. You can use libraries like sklearn to create your classifier \n",
        "from sklearn.neural_network import MLPClassifier\n",
        "class Classifier():\n",
        "    def __init__():\n",
        "        super.__init__()\n",
        "        clf = MLPClassifier(hidden_layer_sizes=(1024,), batch_size=256, verbose=True, early_stopping=False,learning_rate=0.001,max_iter=200,activation='relu',momentum=0.9)\n",
        "    # Define your parameters eg, W,b, max_iterations etc. \n",
        "    \n",
        "    def classify(self,X):\n",
        "        \"\"\"\n",
        "            Given an input X classify it into appropriate class. \n",
        "        \"\"\"\n",
        "        clf = MLPClassifier(hidden_layer_sizes=(1024,), batch_size=256, verbose=True,\n",
        "                            early_stopping=False,max_iter=200,activation='relu',momentum=0.9)\n",
        "        #clf.fit(X_reconstruced,y)\n",
        "        prediction = clf.predict(X)\n",
        "        return prediction\n",
        "        \n",
        "    def confusion_matrix(self,pred,y):\n",
        "        \"\"\"\n",
        "            A confusion matrix is a table that is often used to describe the performance of a classification\n",
        "            model (or “classifier”) on a set of test data for which the true values are known.\n",
        "            \n",
        "            \n",
        "            @return confusion_matrix => num_classesxnum_classes martix \n",
        "                where confusion_matrix[i,j] = number of prediction which are i and number of ground truth value equal j \n",
        "        \n",
        "        \"\"\"\n",
        "        from sklearn.metrics import confusion_matrix\n",
        "        from sklearn.metrics import accuracy_score\n",
        "\n",
        "        cm = confusion_matrix(pred,y)\n",
        "        return cm\n",
        "print('Accuracy' + str(accuracy_score(y_test, y_pred)))\n",
        "    def train(self,X_train,y_train):\n",
        "        \"\"\"\n",
        "            Given your training data, learn the parameters of your classifier\n",
        "            \n",
        "            @param X_train => NxD tensor. Where N is the number of samples and D is the dimension. \n",
        "                                it is the data on which your classifier will be trained. \n",
        "                                It can be any combination of features provided above.\n",
        "\n",
        "            @param y_train => N vector. Ground truth label \n",
        "    \n",
        "            @return Nothing\n",
        "        \"\"\"\n",
        "        \n",
        "    def validate(self,X_validate,y_validate):\n",
        "        \"\"\"\n",
        "            How good is the classifier on unseen data? Use the function below to calculate different metrics. \n",
        "            Based on these matrix change the hyperparmeters and judge the classification\n",
        "            \n",
        "            @param X_validate => NxD tensor. Where N is the number of samples and D is the dimension. \n",
        "                                it is the data on which your classifier validated. \n",
        "                                It can be any combination of features provided above.\n",
        "\n",
        "            @param y_validate => N vector. Ground truth label \n",
        "      \n",
        "            \n",
        "      \n",
        "        \"\"\"\n",
        "\n",
        "    # def confusion(self,X)\n",
        "        \n",
        "        # Calculate Validation accuracy \n",
        "    \n",
        "        # Calculate precision and recall \n",
        "        \n",
        "        # Calculate F1-score\n",
        "    \n",
        "        return "
      ],
      "execution_count": 0,
      "outputs": []
    },
    {
      "cell_type": "code",
      "metadata": {
        "id": "4lXTI1l-PSGW",
        "colab_type": "code",
        "colab": {}
      },
      "source": [
        "from sklearn.neural_network import MLPClassifier\n",
        "from sklearn.metrics import classification_report\n",
        "from sklearn.metrics import accuracy_score\n",
        "from sklearn.model_selection import train_test_split\n",
        "from sklearn.metrics import confusion_matrix\n",
        "# for pca and kpca\n",
        "def classifier_pca(method,X):\n",
        "  X_inv = method.inverse_transform(X)\n",
        "  # test_size: what proportion of original data is used for test set\n",
        "  train_img, test_img, train_lbl, test_lbl = train_test_split(X_inv,y, test_size=0.2, random_state=0)\n",
        "\n",
        "  clf = MLPClassifier(hidden_layer_sizes=(1024,), batch_size=256, verbose=False,\n",
        "                              early_stopping=False,max_iter=50,activation='relu',momentum=0.9)\n",
        "  clf.fit(train_img,train_lbl)\n",
        "  prediction = clf.predict(test_img)\n",
        "  #print(classification_report(test_lbl, prediction,))\n",
        "  cm = confusion_matrix(prediction,test_lbl)\n",
        "  print('confusion matrix')\n",
        "  print(cm)\n",
        "  class_report = classification_report(test_lbl,prediction)\n",
        "  print(class_report)\n",
        "  return accuracy_score(test_lbl, prediction)\n"
      ],
      "execution_count": 0,
      "outputs": []
    },
    {
      "cell_type": "code",
      "metadata": {
        "id": "-Q_CzDIUT6E5",
        "colab_type": "code",
        "colab": {
          "base_uri": "https://localhost:8080/",
          "height": 758
        },
        "outputId": "fcc65f4b-7fd1-4c58-d44f-fed7e09fd0a8"
      },
      "source": [
        "acc_score_pca=classifier_pca(pca,X_3D_pca)\n",
        "print(acc_score_pca)"
      ],
      "execution_count": 64,
      "outputs": [
        {
          "output_type": "stream",
          "text": [
            "/usr/local/lib/python3.6/dist-packages/sklearn/neural_network/multilayer_perceptron.py:350: UserWarning: Got `batch_size` less than 1 or larger than sample size. It is going to be clipped\n",
            "  warnings.warn(\"Got `batch_size` less than 1 or larger than \"\n"
          ],
          "name": "stderr"
        },
        {
          "output_type": "stream",
          "text": [
            "confusion matrix\n",
            "[[2 0 0 0 0 0 0 0 0 0 0 0 0]\n",
            " [1 2 0 0 0 0 0 0 0 0 0 0 0]\n",
            " [0 0 1 0 0 0 0 0 0 0 0 0 0]\n",
            " [0 0 0 1 0 0 0 0 0 0 0 0 0]\n",
            " [0 0 0 0 3 0 0 0 0 0 0 0 0]\n",
            " [0 0 0 0 0 3 0 0 0 0 0 0 1]\n",
            " [0 0 0 0 0 0 2 0 0 0 0 0 0]\n",
            " [0 0 0 0 0 0 0 3 0 0 0 0 0]\n",
            " [0 1 0 0 0 0 0 0 3 0 0 0 0]\n",
            " [0 0 0 0 0 0 0 0 0 1 0 0 0]\n",
            " [0 0 0 0 0 0 0 0 0 0 2 0 0]\n",
            " [0 0 0 0 0 0 0 0 0 0 0 4 0]\n",
            " [0 0 0 0 0 0 0 0 0 0 0 0 3]]\n",
            "              precision    recall  f1-score   support\n",
            "\n",
            "           0       1.00      0.67      0.80         3\n",
            "           2       0.67      0.67      0.67         3\n",
            "           3       1.00      1.00      1.00         1\n",
            "           4       1.00      1.00      1.00         1\n",
            "           5       1.00      1.00      1.00         3\n",
            "           6       0.75      1.00      0.86         3\n",
            "           7       1.00      1.00      1.00         2\n",
            "           8       1.00      1.00      1.00         3\n",
            "           9       0.75      1.00      0.86         3\n",
            "          11       1.00      1.00      1.00         1\n",
            "          12       1.00      1.00      1.00         2\n",
            "          13       1.00      1.00      1.00         4\n",
            "          14       1.00      0.75      0.86         4\n",
            "\n",
            "    accuracy                           0.91        33\n",
            "   macro avg       0.94      0.93      0.93        33\n",
            "weighted avg       0.92      0.91      0.91        33\n",
            "\n",
            "0.9090909090909091\n"
          ],
          "name": "stdout"
        },
        {
          "output_type": "stream",
          "text": [
            "/usr/local/lib/python3.6/dist-packages/sklearn/neural_network/multilayer_perceptron.py:566: ConvergenceWarning: Stochastic Optimizer: Maximum iterations (50) reached and the optimization hasn't converged yet.\n",
            "  % self.max_iter, ConvergenceWarning)\n"
          ],
          "name": "stderr"
        }
      ]
    },
    {
      "cell_type": "code",
      "metadata": {
        "id": "arqlSycbVCwE",
        "colab_type": "code",
        "colab": {
          "base_uri": "https://localhost:8080/",
          "height": 869
        },
        "outputId": "8fdeeb1c-c7bc-473e-cb98-34bd07eeb94b"
      },
      "source": [
        "X_3D_kpca,kpca = get_kernel_pca(X,8)\n",
        "acc_score_kpca=classifier_pca(kpca,X_3D_kpca)\n",
        "print(acc_score_kpca)"
      ],
      "execution_count": 79,
      "outputs": [
        {
          "output_type": "stream",
          "text": [
            "/usr/local/lib/python3.6/dist-packages/sklearn/neural_network/multilayer_perceptron.py:350: UserWarning: Got `batch_size` less than 1 or larger than sample size. It is going to be clipped\n",
            "  warnings.warn(\"Got `batch_size` less than 1 or larger than \"\n"
          ],
          "name": "stderr"
        },
        {
          "output_type": "stream",
          "text": [
            "confusion matrix\n",
            "[[1 0 0 0 0 0 0 0 0 0 0 0 0 0]\n",
            " [0 0 2 0 0 0 0 1 0 0 0 0 0 2]\n",
            " [0 0 0 0 0 0 0 0 0 0 0 1 0 0]\n",
            " [0 0 1 1 0 0 0 1 0 0 0 0 4 0]\n",
            " [0 0 0 0 1 0 0 0 1 0 0 0 0 0]\n",
            " [2 0 0 0 0 2 0 0 0 0 0 0 0 0]\n",
            " [0 0 0 0 0 0 0 0 0 0 0 0 0 0]\n",
            " [0 0 0 0 0 0 0 0 0 0 0 0 0 0]\n",
            " [0 0 0 0 0 0 0 0 2 0 0 0 0 0]\n",
            " [0 0 0 0 0 0 0 0 0 3 0 0 0 0]\n",
            " [0 0 0 0 0 1 0 0 0 0 1 0 0 0]\n",
            " [0 0 0 0 0 0 3 0 0 0 0 1 0 2]\n",
            " [0 0 0 0 0 0 0 0 0 0 0 0 0 0]\n",
            " [0 0 0 0 0 0 0 0 0 0 0 0 0 0]]\n",
            "              precision    recall  f1-score   support\n",
            "\n",
            "           0       1.00      0.33      0.50         3\n",
            "           1       0.00      0.00      0.00         0\n",
            "           2       0.00      0.00      0.00         3\n",
            "           3       0.14      1.00      0.25         1\n",
            "           4       0.50      1.00      0.67         1\n",
            "           5       0.50      0.67      0.57         3\n",
            "           6       0.00      0.00      0.00         3\n",
            "           7       0.00      0.00      0.00         2\n",
            "           8       1.00      0.67      0.80         3\n",
            "           9       1.00      1.00      1.00         3\n",
            "          11       0.50      1.00      0.67         1\n",
            "          12       0.17      0.50      0.25         2\n",
            "          13       0.00      0.00      0.00         4\n",
            "          14       0.00      0.00      0.00         4\n",
            "\n",
            "    accuracy                           0.36        33\n",
            "   macro avg       0.34      0.44      0.34        33\n",
            "weighted avg       0.36      0.36      0.32        33\n",
            "\n",
            "0.36363636363636365\n"
          ],
          "name": "stdout"
        },
        {
          "output_type": "stream",
          "text": [
            "/usr/local/lib/python3.6/dist-packages/sklearn/neural_network/multilayer_perceptron.py:566: ConvergenceWarning: Stochastic Optimizer: Maximum iterations (50) reached and the optimization hasn't converged yet.\n",
            "  % self.max_iter, ConvergenceWarning)\n",
            "/usr/local/lib/python3.6/dist-packages/sklearn/metrics/classification.py:1437: UndefinedMetricWarning: Precision and F-score are ill-defined and being set to 0.0 in labels with no predicted samples.\n",
            "  'precision', 'predicted', average, warn_for)\n",
            "/usr/local/lib/python3.6/dist-packages/sklearn/metrics/classification.py:1439: UndefinedMetricWarning: Recall and F-score are ill-defined and being set to 0.0 in labels with no true samples.\n",
            "  'recall', 'true', average, warn_for)\n"
          ],
          "name": "stderr"
        }
      ]
    },
    {
      "cell_type": "code",
      "metadata": {
        "id": "0IY09RU2PxEd",
        "colab_type": "code",
        "colab": {
          "base_uri": "https://localhost:8080/",
          "height": 906
        },
        "outputId": "020ea3d7-4b16-486c-d8a1-8e42624b48b3"
      },
      "source": [
        "# for lda\n",
        "train_img, test_img, train_lbl, test_lbl = train_test_split(X,y, test_size=0.2, random_state=0)\n",
        "train_img_lda,pred_lda = get_lda(train_img,train_lbl,32)\n",
        "test_img_lda=pred_lda.fit_transform(train_img,train_lbl)\n",
        "prediction=pred_lda.predict(test_img)\n",
        "accu_score_lda=accuracy_score(test_lbl, prediction)\n",
        "print('accuracy score for lda :',accu_score_klda)\n",
        "cm = confusion_matrix(prediction,test_lbl)\n",
        "print('confusion matrix')\n",
        "print(cm)\n",
        "class_report = classification_report(test_lbl,prediction)\n",
        "print(class_report)\n",
        "\n",
        "\n"
      ],
      "execution_count": 80,
      "outputs": [
        {
          "output_type": "stream",
          "text": [
            "/usr/local/lib/python3.6/dist-packages/sklearn/discriminant_analysis.py:466: ChangedBehaviorWarning: n_components cannot be larger than min(n_features, n_classes - 1). Using min(n_features, n_classes - 1) = min(1024, 15 - 1) = 14 components.\n",
            "  ChangedBehaviorWarning)\n",
            "/usr/local/lib/python3.6/dist-packages/sklearn/discriminant_analysis.py:472: FutureWarning: In version 0.23, setting n_components > min(n_features, n_classes - 1) will raise a ValueError. You should set n_components to None (default), or a value smaller or equal to min(n_features, n_classes - 1).\n",
            "  warnings.warn(future_msg, FutureWarning)\n",
            "/usr/local/lib/python3.6/dist-packages/sklearn/discriminant_analysis.py:388: UserWarning: Variables are collinear.\n",
            "  warnings.warn(\"Variables are collinear.\")\n",
            "/usr/local/lib/python3.6/dist-packages/sklearn/discriminant_analysis.py:466: ChangedBehaviorWarning: n_components cannot be larger than min(n_features, n_classes - 1). Using min(n_features, n_classes - 1) = min(1024, 15 - 1) = 14 components.\n",
            "  ChangedBehaviorWarning)\n",
            "/usr/local/lib/python3.6/dist-packages/sklearn/discriminant_analysis.py:472: FutureWarning: In version 0.23, setting n_components > min(n_features, n_classes - 1) will raise a ValueError. You should set n_components to None (default), or a value smaller or equal to min(n_features, n_classes - 1).\n",
            "  warnings.warn(future_msg, FutureWarning)\n",
            "/usr/local/lib/python3.6/dist-packages/sklearn/discriminant_analysis.py:388: UserWarning: Variables are collinear.\n",
            "  warnings.warn(\"Variables are collinear.\")\n"
          ],
          "name": "stderr"
        },
        {
          "output_type": "stream",
          "text": [
            "accuracy score for lda : 0.9393939393939394\n",
            "confusion matrix\n",
            "[[3 0 0 0 0 0 0 0 0 0 0 0 0]\n",
            " [0 3 0 0 0 0 0 0 0 0 0 0 1]\n",
            " [0 0 1 0 0 0 0 0 0 0 0 0 0]\n",
            " [0 0 0 1 0 0 0 0 0 0 0 0 0]\n",
            " [0 0 0 0 3 0 0 0 0 0 0 0 0]\n",
            " [0 0 0 0 0 3 0 1 0 0 0 0 0]\n",
            " [0 0 0 0 0 0 2 0 0 0 0 0 0]\n",
            " [0 0 0 0 0 0 0 2 0 0 0 0 0]\n",
            " [0 0 0 0 0 0 0 0 3 0 0 0 0]\n",
            " [0 0 0 0 0 0 0 0 0 1 0 0 0]\n",
            " [0 0 0 0 0 0 0 0 0 0 2 0 0]\n",
            " [0 0 0 0 0 0 0 0 0 0 0 4 0]\n",
            " [0 0 0 0 0 0 0 0 0 0 0 0 3]]\n",
            "              precision    recall  f1-score   support\n",
            "\n",
            "           0       1.00      1.00      1.00         3\n",
            "           2       0.75      1.00      0.86         3\n",
            "           3       1.00      1.00      1.00         1\n",
            "           4       1.00      1.00      1.00         1\n",
            "           5       1.00      1.00      1.00         3\n",
            "           6       0.75      1.00      0.86         3\n",
            "           7       1.00      1.00      1.00         2\n",
            "           8       1.00      0.67      0.80         3\n",
            "           9       1.00      1.00      1.00         3\n",
            "          11       1.00      1.00      1.00         1\n",
            "          12       1.00      1.00      1.00         2\n",
            "          13       1.00      1.00      1.00         4\n",
            "          14       1.00      0.75      0.86         4\n",
            "\n",
            "    accuracy                           0.94        33\n",
            "   macro avg       0.96      0.96      0.95        33\n",
            "weighted avg       0.95      0.94      0.94        33\n",
            "\n"
          ],
          "name": "stdout"
        }
      ]
    },
    {
      "cell_type": "code",
      "metadata": {
        "id": "KH7P18hIQBbY",
        "colab_type": "code",
        "colab": {
          "base_uri": "https://localhost:8080/",
          "height": 738
        },
        "outputId": "0e1f4378-7f18-452e-e98f-1f0c9eb3ebb2"
      },
      "source": [
        "# for klda\n",
        "from sklearn.neural_network import MLPClassifier\n",
        "from sklearn.metrics import classification_report\n",
        "from sklearn.metrics import accuracy_score\n",
        "from sklearn.model_selection import train_test_split\n",
        "train_img, test_img, train_lbl, test_lbl = train_test_split(X,y, test_size=0.2, random_state=0)\n",
        "train_img_klda,klda1 = get_kernel_lda(train_img,train_lbl,7,kernel='poly')\n",
        "test_img_klda=klda1.fit_transform(train_img,train_lbl)\n",
        "predict_klda1=klda1.predict(test_img)\n",
        "accu_score_klda=accuracy_score(test_lbl, predict_klda1)\n",
        "print(accu_score_klda)\n",
        "cm = confusion_matrix(predict_klda1,test_lbl)\n",
        "print('confusion matrix')\n",
        "print(cm)\n",
        "class_report = classification_report(test_lbl,prediction)\n",
        "print(class_report)"
      ],
      "execution_count": 82,
      "outputs": [
        {
          "output_type": "stream",
          "text": [
            "0.9393939393939394\n",
            "confusion matrix\n",
            "[[3 0 0 0 0 0 0 0 0 0 0 0 0]\n",
            " [0 3 0 0 0 0 0 0 0 0 0 0 1]\n",
            " [0 0 1 0 0 0 0 0 0 0 0 0 0]\n",
            " [0 0 0 1 0 0 0 0 0 0 0 0 0]\n",
            " [0 0 0 0 3 0 0 0 0 0 0 0 0]\n",
            " [0 0 0 0 0 3 0 1 0 0 0 0 0]\n",
            " [0 0 0 0 0 0 2 0 0 0 0 0 0]\n",
            " [0 0 0 0 0 0 0 2 0 0 0 0 0]\n",
            " [0 0 0 0 0 0 0 0 3 0 0 0 0]\n",
            " [0 0 0 0 0 0 0 0 0 1 0 0 0]\n",
            " [0 0 0 0 0 0 0 0 0 0 2 0 0]\n",
            " [0 0 0 0 0 0 0 0 0 0 0 4 0]\n",
            " [0 0 0 0 0 0 0 0 0 0 0 0 3]]\n",
            "              precision    recall  f1-score   support\n",
            "\n",
            "           0       1.00      1.00      1.00         3\n",
            "           2       0.75      1.00      0.86         3\n",
            "           3       1.00      1.00      1.00         1\n",
            "           4       1.00      1.00      1.00         1\n",
            "           5       1.00      1.00      1.00         3\n",
            "           6       0.75      1.00      0.86         3\n",
            "           7       1.00      1.00      1.00         2\n",
            "           8       1.00      0.67      0.80         3\n",
            "           9       1.00      1.00      1.00         3\n",
            "          11       1.00      1.00      1.00         1\n",
            "          12       1.00      1.00      1.00         2\n",
            "          13       1.00      1.00      1.00         4\n",
            "          14       1.00      0.75      0.86         4\n",
            "\n",
            "    accuracy                           0.94        33\n",
            "   macro avg       0.96      0.96      0.95        33\n",
            "weighted avg       0.95      0.94      0.94        33\n",
            "\n"
          ],
          "name": "stdout"
        },
        {
          "output_type": "stream",
          "text": [
            "/usr/local/lib/python3.6/dist-packages/sklearn/discriminant_analysis.py:388: UserWarning: Variables are collinear.\n",
            "  warnings.warn(\"Variables are collinear.\")\n",
            "/usr/local/lib/python3.6/dist-packages/sklearn/discriminant_analysis.py:388: UserWarning: Variables are collinear.\n",
            "  warnings.warn(\"Variables are collinear.\")\n"
          ],
          "name": "stderr"
        }
      ]
    },
    {
      "cell_type": "code",
      "metadata": {
        "id": "BSutBmDtQnoX",
        "colab_type": "code",
        "colab": {
          "base_uri": "https://localhost:8080/",
          "height": 850
        },
        "outputId": "0aa5fc2b-2152-4b83-bd1e-bff1e0fb26af"
      },
      "source": [
        "#for vgg\n",
        "# test_size: what proportion of original data is used for test set\n",
        "features=get_vgg_features(dirpath)\n",
        "n1=features.shape[0]\n",
        "f_train_img, f_test_img, f_train_lbl, f_test_lbl = train_test_split(features,y[0:n1],test_size=0.2, random_state=0)\n",
        "clf = MLPClassifier(hidden_layer_sizes=(1024,), batch_size=256, verbose=False,\n",
        "                              early_stopping=False,max_iter=50,activation='relu',momentum=0.9)\n",
        "clf.fit(f_train_img,f_train_lbl)\n",
        "prediction = clf.predict(f_test_img)\n",
        "accu_score_vgg=accuracy_score(f_test_lbl, prediction)\n",
        "cm = confusion_matrix(prediction,test_lbl)\n",
        "print('confusion matrix')\n",
        "print(cm)\n",
        "class_report = classification_report(test_lbl,prediction)\n",
        "print(class_report)"
      ],
      "execution_count": 83,
      "outputs": [
        {
          "output_type": "stream",
          "text": [
            "/usr/local/lib/python3.6/dist-packages/sklearn/neural_network/multilayer_perceptron.py:350: UserWarning: Got `batch_size` less than 1 or larger than sample size. It is going to be clipped\n",
            "  warnings.warn(\"Got `batch_size` less than 1 or larger than \"\n"
          ],
          "name": "stderr"
        },
        {
          "output_type": "stream",
          "text": [
            "confusion matrix\n",
            "[[1 0 0 0 1 0 0 0 0 0 0 0 1 0]\n",
            " [0 0 0 0 0 0 0 0 1 0 0 0 0 0]\n",
            " [0 0 1 0 0 0 0 0 0 1 0 0 0 1]\n",
            " [0 0 1 1 0 0 0 0 0 1 0 0 1 2]\n",
            " [0 0 0 0 0 0 0 0 0 0 0 0 0 0]\n",
            " [0 0 0 0 0 2 0 1 0 0 0 0 2 0]\n",
            " [0 0 0 0 0 0 2 0 0 0 0 0 0 0]\n",
            " [0 0 1 0 0 0 0 1 0 0 0 0 0 0]\n",
            " [0 0 0 0 0 0 0 0 1 0 0 0 0 0]\n",
            " [0 0 0 0 0 0 0 0 0 1 0 0 0 0]\n",
            " [2 0 0 0 0 0 0 0 0 0 1 0 0 0]\n",
            " [0 0 0 0 0 0 1 0 1 0 0 2 0 0]\n",
            " [0 0 0 0 0 1 0 0 0 0 0 0 0 0]\n",
            " [0 0 0 0 0 0 0 0 0 0 0 0 0 1]]\n",
            "              precision    recall  f1-score   support\n",
            "\n",
            "           0       0.33      0.33      0.33         3\n",
            "           1       0.00      0.00      0.00         0\n",
            "           2       0.33      0.33      0.33         3\n",
            "           3       0.17      1.00      0.29         1\n",
            "           4       0.00      0.00      0.00         1\n",
            "           5       0.40      0.67      0.50         3\n",
            "           6       1.00      0.67      0.80         3\n",
            "           7       0.50      0.50      0.50         2\n",
            "           8       1.00      0.33      0.50         3\n",
            "           9       1.00      0.33      0.50         3\n",
            "          11       0.33      1.00      0.50         1\n",
            "          12       0.50      1.00      0.67         2\n",
            "          13       0.00      0.00      0.00         4\n",
            "          14       1.00      0.25      0.40         4\n",
            "\n",
            "    accuracy                           0.42        33\n",
            "   macro avg       0.47      0.46      0.38        33\n",
            "weighted avg       0.57      0.42      0.41        33\n",
            "\n"
          ],
          "name": "stdout"
        },
        {
          "output_type": "stream",
          "text": [
            "/usr/local/lib/python3.6/dist-packages/sklearn/neural_network/multilayer_perceptron.py:566: ConvergenceWarning: Stochastic Optimizer: Maximum iterations (50) reached and the optimization hasn't converged yet.\n",
            "  % self.max_iter, ConvergenceWarning)\n",
            "/usr/local/lib/python3.6/dist-packages/sklearn/metrics/classification.py:1437: UndefinedMetricWarning: Precision and F-score are ill-defined and being set to 0.0 in labels with no predicted samples.\n",
            "  'precision', 'predicted', average, warn_for)\n",
            "/usr/local/lib/python3.6/dist-packages/sklearn/metrics/classification.py:1439: UndefinedMetricWarning: Recall and F-score are ill-defined and being set to 0.0 in labels with no true samples.\n",
            "  'recall', 'true', average, warn_for)\n"
          ],
          "name": "stderr"
        }
      ]
    },
    {
      "cell_type": "code",
      "metadata": {
        "id": "WtSx5N12RZr7",
        "colab_type": "code",
        "colab": {}
      },
      "source": [
        ""
      ],
      "execution_count": 0,
      "outputs": []
    },
    {
      "cell_type": "code",
      "metadata": {
        "id": "IvG6U8HMuQhe",
        "colab_type": "code",
        "colab": {
          "base_uri": "https://localhost:8080/",
          "height": 702
        },
        "outputId": "98893198-b2a5-4e43-b7ea-596a2a3383bb"
      },
      "source": [
        "#for resnet\n",
        "# test_size: what proportion of original data is used for test set\n",
        "features=get_resnet_features(dirpath)\n",
        "n2=features.shape[0]\n",
        "f_train_img, f_test_img, f_train_lbl, f_test_lbl = train_test_split(features,y[0:n1],test_size=0.2, random_state=0)\n",
        "clf = MLPClassifier(hidden_layer_sizes=(1024,), batch_size=256, verbose=False,\n",
        "                              early_stopping=False,max_iter=50,activation='relu',momentum=0.9)\n",
        "clf.fit(f_train_img,f_train_lbl)\n",
        "prediction = clf.predict(f_test_img)\n",
        "accu_score_resnet=accuracy_score(f_test_lbl, prediction)\n",
        "cm = confusion_matrix(prediction,test_lbl)\n",
        "print('confusion matrix')\n",
        "print(cm)\n",
        "class_report = classification_report(test_lbl,prediction)\n",
        "print(class_report)"
      ],
      "execution_count": 85,
      "outputs": [
        {
          "output_type": "stream",
          "text": [
            "/usr/local/lib/python3.6/dist-packages/sklearn/neural_network/multilayer_perceptron.py:350: UserWarning: Got `batch_size` less than 1 or larger than sample size. It is going to be clipped\n",
            "  warnings.warn(\"Got `batch_size` less than 1 or larger than \"\n"
          ],
          "name": "stderr"
        },
        {
          "output_type": "stream",
          "text": [
            "confusion matrix\n",
            "[[3 0 0 0 0 0 0 0 0 0 0 0 0]\n",
            " [0 3 0 0 0 0 0 0 0 0 0 0 0]\n",
            " [0 0 1 0 1 0 0 0 0 0 0 0 0]\n",
            " [0 0 0 1 0 0 0 0 0 0 0 0 0]\n",
            " [0 0 0 0 2 0 0 0 0 0 0 0 0]\n",
            " [0 0 0 0 0 3 0 0 0 0 0 0 0]\n",
            " [0 0 0 0 0 0 2 0 0 0 0 0 0]\n",
            " [0 0 0 0 0 0 0 3 0 0 0 0 0]\n",
            " [0 0 0 0 0 0 0 0 3 0 0 0 0]\n",
            " [0 0 0 0 0 0 0 0 0 1 0 0 0]\n",
            " [0 0 0 0 0 0 0 0 0 0 2 0 0]\n",
            " [0 0 0 0 0 0 0 0 0 0 0 4 0]\n",
            " [0 0 0 0 0 0 0 0 0 0 0 0 4]]\n",
            "              precision    recall  f1-score   support\n",
            "\n",
            "           0       1.00      1.00      1.00         3\n",
            "           2       1.00      1.00      1.00         3\n",
            "           3       0.50      1.00      0.67         1\n",
            "           4       1.00      1.00      1.00         1\n",
            "           5       1.00      0.67      0.80         3\n",
            "           6       1.00      1.00      1.00         3\n",
            "           7       1.00      1.00      1.00         2\n",
            "           8       1.00      1.00      1.00         3\n",
            "           9       1.00      1.00      1.00         3\n",
            "          11       1.00      1.00      1.00         1\n",
            "          12       1.00      1.00      1.00         2\n",
            "          13       1.00      1.00      1.00         4\n",
            "          14       1.00      1.00      1.00         4\n",
            "\n",
            "    accuracy                           0.97        33\n",
            "   macro avg       0.96      0.97      0.96        33\n",
            "weighted avg       0.98      0.97      0.97        33\n",
            "\n"
          ],
          "name": "stdout"
        }
      ]
    },
    {
      "cell_type": "code",
      "metadata": {
        "id": "aKMkMb8UVOXg",
        "colab_type": "code",
        "colab": {
          "base_uri": "https://localhost:8080/",
          "height": 238
        },
        "outputId": "b154808b-44f7-44bb-b0b6-4162334f3ae8"
      },
      "source": [
        "Features=np.array(['Eigen Face','Kernel Face','Fisher Face','Fisher kernel face','vgg','resnet'])\n",
        "\n",
        "Reduced_storage=[61,8,32,7,n1,n2]\n",
        "Accuracies=np.array([acc_score_pca,acc_score_kpca,accu_score_lda,accu_score_klda,accu_score_vgg,accu_score_resnet])\n",
        "pd.DataFrame({'Features':Features,'reduced storage':Reduced_storage,'Accuracies':Accuracies})"
      ],
      "execution_count": 88,
      "outputs": [
        {
          "output_type": "execute_result",
          "data": {
            "text/html": [
              "<div>\n",
              "<style scoped>\n",
              "    .dataframe tbody tr th:only-of-type {\n",
              "        vertical-align: middle;\n",
              "    }\n",
              "\n",
              "    .dataframe tbody tr th {\n",
              "        vertical-align: top;\n",
              "    }\n",
              "\n",
              "    .dataframe thead th {\n",
              "        text-align: right;\n",
              "    }\n",
              "</style>\n",
              "<table border=\"1\" class=\"dataframe\">\n",
              "  <thead>\n",
              "    <tr style=\"text-align: right;\">\n",
              "      <th></th>\n",
              "      <th>Features</th>\n",
              "      <th>reduced storage</th>\n",
              "      <th>Accuracies</th>\n",
              "    </tr>\n",
              "  </thead>\n",
              "  <tbody>\n",
              "    <tr>\n",
              "      <th>0</th>\n",
              "      <td>Eigen Face</td>\n",
              "      <td>61</td>\n",
              "      <td>0.909091</td>\n",
              "    </tr>\n",
              "    <tr>\n",
              "      <th>1</th>\n",
              "      <td>Kernel Face</td>\n",
              "      <td>8</td>\n",
              "      <td>0.363636</td>\n",
              "    </tr>\n",
              "    <tr>\n",
              "      <th>2</th>\n",
              "      <td>Fisher Face</td>\n",
              "      <td>32</td>\n",
              "      <td>0.939394</td>\n",
              "    </tr>\n",
              "    <tr>\n",
              "      <th>3</th>\n",
              "      <td>Fisher kernel face</td>\n",
              "      <td>7</td>\n",
              "      <td>0.939394</td>\n",
              "    </tr>\n",
              "    <tr>\n",
              "      <th>4</th>\n",
              "      <td>vgg</td>\n",
              "      <td>165</td>\n",
              "      <td>0.424242</td>\n",
              "    </tr>\n",
              "    <tr>\n",
              "      <th>5</th>\n",
              "      <td>resnet</td>\n",
              "      <td>165</td>\n",
              "      <td>0.969697</td>\n",
              "    </tr>\n",
              "  </tbody>\n",
              "</table>\n",
              "</div>"
            ],
            "text/plain": [
              "             Features  reduced storage  Accuracies\n",
              "0          Eigen Face               61    0.909091\n",
              "1         Kernel Face                8    0.363636\n",
              "2         Fisher Face               32    0.939394\n",
              "3  Fisher kernel face                7    0.939394\n",
              "4                 vgg              165    0.424242\n",
              "5              resnet              165    0.969697"
            ]
          },
          "metadata": {
            "tags": []
          },
          "execution_count": 88
        }
      ]
    },
    {
      "cell_type": "code",
      "metadata": {
        "id": "VPO5tQsoVvfG",
        "colab_type": "code",
        "colab": {
          "base_uri": "https://localhost:8080/",
          "height": 294
        },
        "outputId": "619a9252-2390-4e03-a354-684b4c301d12"
      },
      "source": [
        "# For each dataset print the confusion matrix for the best model \n",
        "# Best model Kernel LDA for IMFDB\n",
        "dirpath = './dataset/IMFDB'\n",
        "X,y = load_data(dirpath)\n",
        "N,H,W = X.shape[0:3]\n",
        "C = 1 if opt['is_grayscale'] else X1.shape[3]\n",
        "X = X.reshape((N,H*W*C)) \n",
        "train_img, test_img, train_lbl, test_lbl = train_test_split(X,y, test_size=0.2, random_state=0)\n",
        "train_img_klda,klda1 = get_kernel_lda(train_img,train_lbl,7,kernel='poly')\n",
        "test_img_klda=klda1.fit_transform(train_img,train_lbl)\n",
        "predict_klda1=klda1.predict(test_img)\n",
        "accu_score_klda=accuracy_score(test_lbl, predict_klda1)\n",
        "print(accu_score_klda)\n",
        "cm = confusion_matrix(predict_klda1,test_lbl)\n",
        "print('confusion matrix')\n",
        "print(cm)\n"
      ],
      "execution_count": 91,
      "outputs": [
        {
          "output_type": "stream",
          "text": [
            "Dataset shape: (400, 32, 32)\n"
          ],
          "name": "stdout"
        },
        {
          "output_type": "stream",
          "text": [
            "/usr/local/lib/python3.6/dist-packages/sklearn/discriminant_analysis.py:388: UserWarning: Variables are collinear.\n",
            "  warnings.warn(\"Variables are collinear.\")\n"
          ],
          "name": "stderr"
        },
        {
          "output_type": "stream",
          "text": [
            "0.6125\n",
            "confusion matrix\n",
            "[[ 7  3  1  0  0  0  2  1]\n",
            " [ 1  5  1  0  0  2  1  1]\n",
            " [ 1  3  7  0  1  0  0  1]\n",
            " [ 0  1  1  5  0  0  3  2]\n",
            " [ 0  0  0  0 10  0  0  0]\n",
            " [ 0  0  1  0  0  4  0  0]\n",
            " [ 1  0  0  1  0  0  6  0]\n",
            " [ 0  0  1  0  0  0  1  5]]\n"
          ],
          "name": "stdout"
        },
        {
          "output_type": "stream",
          "text": [
            "/usr/local/lib/python3.6/dist-packages/sklearn/discriminant_analysis.py:388: UserWarning: Variables are collinear.\n",
            "  warnings.warn(\"Variables are collinear.\")\n"
          ],
          "name": "stderr"
        }
      ]
    },
    {
      "cell_type": "code",
      "metadata": {
        "id": "AgUS3KwWbqiG",
        "colab_type": "code",
        "colab": {
          "base_uri": "https://localhost:8080/",
          "height": 294
        },
        "outputId": "bb3a3f6f-a982-44c4-f02b-6c8fe9f5dd62"
      },
      "source": [
        "# For each dataset print the confusion matrix for the best model \n",
        "# Best model Kernel LDA for IMFDB\n",
        "dirpath = '/content/drive/My Drive/IIIT-CFW'\n",
        "X,y = load_data(dirpath)\n",
        "N,H,W = X.shape[0:3]\n",
        "C = 1 if opt['is_grayscale'] else X1.shape[3]\n",
        "X = X.reshape((N,H*W*C)) \n",
        "train_img, test_img, train_lbl, test_lbl = train_test_split(X,y, test_size=0.2, random_state=0)\n",
        "train_img_klda,klda1 = get_kernel_lda(train_img,train_lbl,7,kernel='poly')\n",
        "test_img_klda=klda1.fit_transform(train_img,train_lbl)\n",
        "predict_klda1=klda1.predict(test_img)\n",
        "accu_score_klda=accuracy_score(test_lbl, predict_klda1)\n",
        "print(accu_score_klda)\n",
        "cm = confusion_matrix(predict_klda1,test_lbl)\n",
        "print('confusion matrix')\n",
        "print(cm)\n"
      ],
      "execution_count": 92,
      "outputs": [
        {
          "output_type": "stream",
          "text": [
            "Dataset shape: (680, 32, 32)\n"
          ],
          "name": "stdout"
        },
        {
          "output_type": "stream",
          "text": [
            "/usr/local/lib/python3.6/dist-packages/sklearn/discriminant_analysis.py:388: UserWarning: Variables are collinear.\n",
            "  warnings.warn(\"Variables are collinear.\")\n"
          ],
          "name": "stderr"
        },
        {
          "output_type": "stream",
          "text": [
            "0.25\n",
            "confusion matrix\n",
            "[[1 0 0 1 0 1 0 0]\n",
            " [3 2 0 2 2 1 2 0]\n",
            " [0 2 8 3 5 5 4 2]\n",
            " [1 4 0 5 1 3 3 4]\n",
            " [1 1 1 1 8 3 3 5]\n",
            " [0 1 2 1 2 1 1 4]\n",
            " [1 0 0 4 1 6 4 1]\n",
            " [2 0 3 3 2 2 2 5]]\n"
          ],
          "name": "stdout"
        },
        {
          "output_type": "stream",
          "text": [
            "/usr/local/lib/python3.6/dist-packages/sklearn/discriminant_analysis.py:388: UserWarning: Variables are collinear.\n",
            "  warnings.warn(\"Variables are collinear.\")\n"
          ],
          "name": "stderr"
        }
      ]
    },
    {
      "cell_type": "markdown",
      "metadata": {
        "id": "h4JfW51bVvfK",
        "colab_type": "text"
      },
      "source": [
        "3. Similiar to 1(b) use t-SNE based visilization of faces?  Does it makesense?  Do you see similar people coming together?or something else?  Can you do visualization datasetwise and combined? Here you will use a popular implementation.(Worth  reading and understanding  t-SNE.  We  will not discuss it in the class and out of scope for thiscourse/exams."
      ]
    },
    {
      "cell_type": "code",
      "metadata": {
        "id": "GM-jQDfEVvfL",
        "colab_type": "code",
        "outputId": "9897af0f-5222-4e39-a603-84aacdf0e5fb",
        "colab": {
          "base_uri": "https://localhost:8080/",
          "height": 538
        }
      },
      "source": [
        "# Compute TSNE for different features and create a scatter plot\n",
        "dirpath = '/content/drive/My Drive/IMFDB'\n",
        "X,y = load_data(dirpath)\n",
        "N,H,W = X.shape[0:3]\n",
        "C = 1 if opt['is_grayscale'] else X1.shape[3]\n",
        "X = X.reshape((N,H*W*C)) \n",
        "\n",
        "X,klda = get_kernel_lda(X,y,7,'poly')\n",
        "\n",
        "k = 2 # Number of components in TSNE\n",
        "\n",
        "# Compute\n",
        "X_TSNE = TSNE(n_components=k).fit_transform(X)\n",
        "\n",
        "\n",
        "fig = plt.figure(figsize=(8,8))\n",
        "ax = fig.add_subplot(111)#, projection='3d')\n",
        "ax.scatter(X_TSNE[:,0],X_TSNE[:,1],c=y)\n",
        "plt.show()\n"
      ],
      "execution_count": 93,
      "outputs": [
        {
          "output_type": "stream",
          "text": [
            "Dataset shape: (400, 32, 32)\n"
          ],
          "name": "stdout"
        },
        {
          "output_type": "stream",
          "text": [
            "/usr/local/lib/python3.6/dist-packages/sklearn/discriminant_analysis.py:388: UserWarning: Variables are collinear.\n",
            "  warnings.warn(\"Variables are collinear.\")\n"
          ],
          "name": "stderr"
        },
        {
          "output_type": "display_data",
          "data": {
            "image/png": "[encoded data removed]",
            "text/plain": [
              "<Figure size 576x576 with 1 Axes>"
            ]
          },
          "metadata": {
            "tags": []
          }
        }
      ]
    },
    {
      "cell_type": "markdown",
      "metadata": {
        "id": "T2w5Edx5cHXj",
        "colab_type": "text"
      },
      "source": [
        "With the combination of LDA or K-LDA, with TSNE similar people are coming to at one place"
      ]
    },
    {
      "cell_type": "code",
      "metadata": {
        "id": "-Mek8fhkrXDw",
        "colab_type": "code",
        "colab": {}
      },
      "source": [
        ""
      ],
      "execution_count": 0,
      "outputs": []
    },
    {
      "cell_type": "markdown",
      "metadata": {
        "id": "IW8tefBCVvfQ",
        "colab_type": "text"
      },
      "source": [
        "4.`face`  is  used  for  verification.   \n",
        "\n",
        "4(a) How do we formulate the problem using KNN \n",
        "\n",
        "4(b) How do we analyze the performance ? suggest  the  metrics  (like  accuracy) that is appropriate for this task.\n",
        "\n",
        "_______________________________________________________________________\n",
        "\n",
        "4(c)Show empirical re-sults  with  all  the  representations"
      ]
    },
    {
      "cell_type": "code",
      "metadata": {
        "id": "eX6omV0rVvfS",
        "colab_type": "code",
        "colab": {}
      },
      "source": [
        "from sklearn.neighbors import KNeighborsClassifier\n",
        "from sklearn.metrics import classification_report\n",
        "from sklearn.metrics import accuracy_score\n",
        "from sklearn.model_selection import train_test_split\n",
        "\n",
        "class FaceVerification():\n",
        "    def __init__(self,k):\n",
        "        #super.__init__()\n",
        "        self.k = k\n",
        "        clf = KNeighborsClassifier(n_neighbors=k)\n",
        "        self.model=clf\n",
        "    # Define your parameters eg, W,b, max_iterations etc. \n",
        "    \n",
        "    def verify(self,X,class_id):\n",
        "        \"\"\"\n",
        "            Given an input X find if the class id is correct or not.\n",
        "            \n",
        "            @return verfication_results => N vector containing True or False. \n",
        "                    If the class-id matches with your prediction then true else false.   \n",
        "        \"\"\"\n",
        "        y_pred = self.model.predict(X)\n",
        "        acc_score=accuracy_score(class_id,y_pred)\n",
        "        print(accuracy_score(class_id, y_pred))\n",
        "        verification_results = np.chararray(X.shape[0],itemsize=5)\n",
        "        for i in range (1,X.shape[0]):\n",
        "       \n",
        "           if(y_pred[i] == class_id[i]):\n",
        "             verification_results[i] = 'yes'\n",
        "           else:\n",
        "             verification_results[i] = 'no'\n",
        "        return verification_results\n",
        "        \n",
        "    def train(self,X_train,y_train):\n",
        "        \"\"\"\n",
        "            Given your training data, learn the parameters of your classifier\n",
        "            \n",
        "            @param X_train => NxD tensor. Where N is the number of samples and D is the dimension. \n",
        "                                it is the data on which your verification system will be trained. \n",
        "                                It can be any combination of features provided above.\n",
        "\n",
        "            @param y_train => N vector. Ground truth label \n",
        "    \n",
        "            @return Nothing\n",
        "        \"\"\"\n",
        "        self.model.fit(X_train, y_train)\n",
        "        \n",
        "    def validate(self,X_validate,y_validate):\n",
        "        \"\"\"\n",
        "            How good is your system on unseen data? Use the function below to calculate different metrics. \n",
        "            Based on these matrix change the hyperparmeters\n",
        "            \n",
        "            @param X_validate => NxD tensor. Where N is the number of samples and D is the dimension. \n",
        "                                It can be any combination of features provided above.\n",
        "\n",
        "            @param y_validate => N vector. Ground truth label \n",
        "            \n",
        "        \"\"\"\n",
        "        y_pred = self.model.predict(X_validate)\n",
        "        acc_score=accuracy_score(y_validate,y_pred)\n",
        "        print(accuracy_score(y_validate, y_pred))\n",
        "        return "
      ],
      "execution_count": 0,
      "outputs": []
    },
    {
      "cell_type": "code",
      "metadata": {
        "id": "UfNi7NAmVvfV",
        "colab_type": "code",
        "colab": {}
      },
      "source": [
        "# Create a train and validation split and show your results "
      ],
      "execution_count": 0,
      "outputs": []
    },
    {
      "cell_type": "code",
      "metadata": {
        "id": "PHqILJUhASOn",
        "colab_type": "code",
        "outputId": "ba08d883-d220-4b3b-ea09-5e081e7eeccd",
        "colab": {
          "base_uri": "https://localhost:8080/",
          "height": 182
        }
      },
      "source": [
        "dirpath = '/content/drive/My Drive/Yale_face_database'\n",
        "X,y = load_data(dirpath)\n",
        "N,H,W = X.shape[0:3]\n",
        "C = 1 if opt['is_grayscale'] else X1.shape[3]\n",
        "X = X.reshape((N,H*W*C))\n",
        "train_img, test_img, train_lbl, test_lbl = train_test_split(X,y, test_size=0.4, random_state=0)\n",
        "#classifier = KNeighborsClassifier(n_neighbors=2)\n",
        "k = 7\n",
        "verification_result = np.chararray(X.shape[0],itemsize=5)\n",
        "classifier=FaceVerification(k)\n",
        "classifier.train(train_img,train_lbl)\n",
        "train_img1, validate_img, train_lbl1, validate_lbl = train_test_split(train_img,train_lbl, test_size=0.4, random_state=0)\n",
        "y_pred_valid = classifier.validate(validate_img,validate_lbl)\n",
        "#print(accuracy_score(train_lbl[20:40], y_pred_valid))\n",
        "verification_result = classifier.verify(test_img,test_lbl)\n",
        "# if(y_pred==test_lbl[4:5]):\n",
        "#     print('verified')\n",
        "# else:\n",
        "#     print('not verified')\n",
        "print(verification_result)"
      ],
      "execution_count": 0,
      "outputs": [
        {
          "output_type": "stream",
          "text": [
            "Dataset shape: (165, 32, 32)\n",
            "0.8\n",
            "0.6818181818181818\n",
            "['' b'no' b'yes' b'yes' b'no' b'no' b'yes' b'yes' b'yes' b'yes' b'yes'\n",
            " b'no' b'yes' b'yes' b'yes' b'yes' b'yes' b'yes' b'no' b'yes' b'no' b'yes'\n",
            " b'yes' b'no' b'no' b'yes' b'yes' b'yes' b'no' b'yes' b'yes' b'no' b'yes'\n",
            " b'yes' b'yes' b'no' b'yes' b'yes' b'no' b'no' b'yes' b'yes' b'yes' b'no'\n",
            " b'yes' b'no' b'yes' b'yes' b'yes' b'no' b'no' b'yes' b'no' b'yes' b'yes'\n",
            " b'yes' b'yes' b'yes' b'yes' b'yes' b'yes' b'yes' b'no' b'yes' b'no' b'no']\n"
          ],
          "name": "stdout"
        }
      ]
    },
    {
      "cell_type": "code",
      "metadata": {
        "id": "3X5zCq2dVvfX",
        "colab_type": "code",
        "colab": {}
      },
      "source": [
        "# Create 3 tables simiar to page-6 of the paper. One table per dataset \n",
        "# Each table will have 5 columns. \n",
        "# Feature/combination of feature used, reduced dimension space, verification error, accuracy, precision\n",
        "\n",
        "# Print the table. (You can use Pandas)"
      ],
      "execution_count": 0,
      "outputs": []
    },
    {
      "cell_type": "markdown",
      "metadata": {
        "id": "x1fxUU38Vvfb",
        "colab_type": "text"
      },
      "source": [
        "### Extenstion / Application\n",
        "    Create a system for any one of the following problems:\n",
        "#     ##Gender prediction with combined IMFDB & IIIT-CFW is selected. \n",
        "\n",
        "- Politicians  vs  Filmstars  in  a  public  data  set.   (eg.LFW)\n",
        "        You already have seen IIIT-CFW dataset. Use it for classification. \n",
        "- Age prediction\n",
        "        Given different actors/actress in IMFDB create new labels based on their age.  \n",
        "- Gender prediction  is Selected\n",
        "        Given different actors/actress in IMFDB+IIIT-CFW create new labels based on their gender.\n",
        "- Emotion classification\n",
        "        Both the yale dataset and IMFDB contain an `emotion.txt` file. Using that you can create a emotion predicter \n",
        "- cartoon vs real images\n",
        "        Use a combination of IIIT-CFW and other dataset. \n",
        "        \n",
        "\n",
        "\n",
        "You are free to use a new dataset that is publicly avail-able or even create one by crawling from internet."
      ]
    },
    {
      "cell_type": "markdown",
      "metadata": {
        "id": "QYvl5m0Ek6KM",
        "colab_type": "text"
      },
      "source": [
        "Gender prediction of IMFDB and IIIT-CFW  using LDA feature prediction "
      ]
    },
    {
      "cell_type": "code",
      "metadata": {
        "id": "odWPBg-oVvfp",
        "colab_type": "code",
        "outputId": "0c2ac658-173d-4a14-b0c8-c634f6e0eaeb",
        "colab": {
          "base_uri": "https://localhost:8080/",
          "height": 35
        }
      },
      "source": [
        "# cfw_dict = {'Amitabhbachan': 0,\n",
        "#     'AamirKhan': 1,\n",
        "#     'DwayneJohnson': 2,\n",
        "#     'AishwaryaRai': 3,\n",
        "#     'BarackObama': 4,\n",
        "#     'NarendraModi': 5,\n",
        "#     'ManmohanSingh': 6,\n",
        "#     'VladimirPutin': 7}\n",
        "\n",
        "def load_data_gndr(dir_path1,dir_path2):\n",
        "    image_list = []\n",
        "    y_list = []\n",
        "    g_list = []\n",
        "    #if \"CFW\" in dir_path1:\n",
        "    label_dict1 = cfw_dict\n",
        "    #elif \"IMFDB\" in dir_path2:\n",
        "    label_dict3 = imfdb_dict\n",
        "    #else:\n",
        "    #    raise KeyError(\"Dataset not found.\")\n",
        "    \n",
        "    \n",
        "    for filename in sorted(os.listdir(dir_path1)):\n",
        "        if filename.endswith(\".png\"):\n",
        "            im = load_image(os.path.join(dir_path1,filename))\n",
        "            y = filename.split('_')[0]\n",
        "            y = label_dict1[y]\n",
        "            if y == 3 :\n",
        "              g = 0\n",
        "            else:\n",
        "              g = 1\n",
        "            image_list.append(im)\n",
        "            y_list.append(y)\n",
        "            g_list.append(g)\n",
        "        else:\n",
        "            continue\n",
        "\n",
        "    for filename in sorted(os.listdir(dir_path2)):\n",
        "        if filename.endswith(\".png\"):\n",
        "            im = load_image(os.path.join(dir_path2,filename))\n",
        "            y = filename.split('_')[0]\n",
        "            y = label_dict3[y]\n",
        "            \n",
        "            if y == 0 or y == 1 or y == 3 or y == 5 :\n",
        "              g = 0\n",
        "            else:\n",
        "              g = 1\n",
        "            image_list.append(im)\n",
        "            y_list.append(y)\n",
        "            g_list.append(g)\n",
        "        else:\n",
        "            continue\n",
        "\n",
        "    image_list = np.array(image_list)\n",
        "    y_list = np.array(y_list)\n",
        "\n",
        "    print(\"Dataset shape:\",image_list.shape)\n",
        "\n",
        "    return image_list,y_list,g_list\n",
        "dirpath1 = '/content/drive/My Drive/IIIT-CFW'\n",
        "dirpath2 = '/content/drive/My Drive/IMFDB'\n",
        "X,y,g = load_data_gndr(dirpath1,dirpath2)\n",
        "N,H,W = X.shape[0:3]\n",
        "C = 1 if opt['is_grayscale'] else X1.shape[3]\n",
        "X = X.reshape((N,H*W*C))\n",
        "\n",
        "\n"
      ],
      "execution_count": 0,
      "outputs": [
        {
          "output_type": "stream",
          "text": [
            "Dataset shape: (1080, 32, 32)\n"
          ],
          "name": "stdout"
        }
      ]
    },
    {
      "cell_type": "code",
      "metadata": {
        "id": "K6_ZIwElVvfs",
        "colab_type": "code",
        "outputId": "936f58c5-c8cf-494a-9d4c-0240dfd42b3c",
        "colab": {
          "base_uri": "https://localhost:8080/",
          "height": 110
        }
      },
      "source": [
        "# Define your features\n",
        "X1_lda,lda = get_lda(X,g,20)\n"
      ],
      "execution_count": 0,
      "outputs": [
        {
          "output_type": "stream",
          "text": [
            "/usr/local/lib/python3.6/dist-packages/sklearn/discriminant_analysis.py:466: ChangedBehaviorWarning: n_components cannot be larger than min(n_features, n_classes - 1). Using min(n_features, n_classes - 1) = min(1024, 2 - 1) = 1 components.\n",
            "  ChangedBehaviorWarning)\n",
            "/usr/local/lib/python3.6/dist-packages/sklearn/discriminant_analysis.py:472: FutureWarning: In version 0.23, setting n_components > min(n_features, n_classes - 1) will raise a ValueError. You should set n_components to None (default), or a value smaller or equal to min(n_features, n_classes - 1).\n",
            "  warnings.warn(future_msg, FutureWarning)\n"
          ],
          "name": "stderr"
        }
      ]
    },
    {
      "cell_type": "code",
      "metadata": {
        "id": "I-HRaKnZVvfv",
        "colab_type": "code",
        "outputId": "aed1e5e4-9bcc-41a2-d8e6-016d985691d5",
        "colab": {
          "base_uri": "https://localhost:8080/",
          "height": 796
        }
      },
      "source": [
        "# Create your classifier\n",
        "from sklearn.metrics import confusion_matrix\n",
        "from sklearn.metrics import accuracy_score\n",
        "train_img, test_img, train_lbl, test_lbl = train_test_split(X,g, test_size=0.2, random_state=0)\n",
        "train_img_lda,pred_lda = get_lda(train_img,train_lbl,32)\n",
        "test_img_lda=lda.fit_transform(train_img,train_lbl)\n",
        "\n",
        "# Validate your classifier\n",
        "train_img1, validate_img, train_lbl1, validate_lbl = train_test_split(train_img,train_lbl, test_size=0.3, random_state=0)\n",
        "validate=lda.predict(validate_img)\n",
        "validate_score=accuracy_score(validate_lbl,validate)\n",
        "print('validate accuracy', validate_score)\n",
        "N2=validate_img.shape[0]\n",
        "validate_img1 = np.reshape(validate_img,(N2,32,32))\n",
        "#ind = np.random.randint(0,validate.shape[0],6)\n",
        "#disply_images(validate_img1[ind,...],validate[ind], row=2,col=3,w=64,h=64)\n",
        "\n",
        "predict=lda.predict(test_img)\n",
        "predict_score=accuracy_score(test_lbl,predict)\n",
        "print('prediction accuracy', predict_score)\n",
        "cm = confusion_matrix(predict,test_lbl)\n",
        "print('confusion matrix')\n",
        "print(cm)\n",
        "N1=test_img.shape[0]\n",
        "test_img1 = np.reshape(test_img,(N1,32,32))\n",
        "ind = np.random.randint(0,predict.shape[0],20)\n",
        "disply_images(test_img1[ind,...],predict[ind], row=4,col=5,w=64,h=64)\n"
      ],
      "execution_count": 0,
      "outputs": [
        {
          "output_type": "stream",
          "text": [
            "/usr/local/lib/python3.6/dist-packages/sklearn/discriminant_analysis.py:466: ChangedBehaviorWarning: n_components cannot be larger than min(n_features, n_classes - 1). Using min(n_features, n_classes - 1) = min(1024, 2 - 1) = 1 components.\n",
            "  ChangedBehaviorWarning)\n",
            "/usr/local/lib/python3.6/dist-packages/sklearn/discriminant_analysis.py:472: FutureWarning: In version 0.23, setting n_components > min(n_features, n_classes - 1) will raise a ValueError. You should set n_components to None (default), or a value smaller or equal to min(n_features, n_classes - 1).\n",
            "  warnings.warn(future_msg, FutureWarning)\n",
            "/usr/local/lib/python3.6/dist-packages/sklearn/discriminant_analysis.py:388: UserWarning: Variables are collinear.\n",
            "  warnings.warn(\"Variables are collinear.\")\n",
            "/usr/local/lib/python3.6/dist-packages/sklearn/discriminant_analysis.py:466: ChangedBehaviorWarning: n_components cannot be larger than min(n_features, n_classes - 1). Using min(n_features, n_classes - 1) = min(1024, 2 - 1) = 1 components.\n",
            "  ChangedBehaviorWarning)\n",
            "/usr/local/lib/python3.6/dist-packages/sklearn/discriminant_analysis.py:472: FutureWarning: In version 0.23, setting n_components > min(n_features, n_classes - 1) will raise a ValueError. You should set n_components to None (default), or a value smaller or equal to min(n_features, n_classes - 1).\n",
            "  warnings.warn(future_msg, FutureWarning)\n",
            "/usr/local/lib/python3.6/dist-packages/sklearn/discriminant_analysis.py:388: UserWarning: Variables are collinear.\n",
            "  warnings.warn(\"Variables are collinear.\")\n"
          ],
          "name": "stderr"
        },
        {
          "output_type": "stream",
          "text": [
            "validate accuracy 0.9961538461538462\n",
            "prediction accuracy 0.6574074074074074\n",
            "confusion matrix\n",
            "[[ 36  49]\n",
            " [ 25 106]]\n"
          ],
          "name": "stdout"
        },
        {
          "output_type": "display_data",
          "data": {
            "image/png": "[encoded data removed]",
            "text/plain": [
              "<Figure size 576x576 with 20 Axes>"
            ]
          },
          "metadata": {
            "tags": []
          }
        }
      ]
    },
    {
      "cell_type": "markdown",
      "metadata": {
        "id": "L20ILDAZGtcq",
        "colab_type": "text"
      },
      "source": [
        "In above 20 test cases, few genders are predicted properly and few gender predicted wrongly. \n",
        "\n",
        "Accuracy is 65 %\n"
      ]
    },
    {
      "cell_type": "code",
      "metadata": {
        "id": "HbUoYPf0Vvfz",
        "colab_type": "code",
        "colab": {}
      },
      "source": [
        ""
      ],
      "execution_count": 0,
      "outputs": []
    },
    {
      "cell_type": "markdown",
      "metadata": {
        "id": "V0dU85iqZje_",
        "colab_type": "text"
      },
      "source": [
        "*Self* problem :\n",
        "Selected facial expression database fer2013, which has seven classes of expressins. Used LDA method for classification.\n"
      ]
    },
    {
      "cell_type": "code",
      "metadata": {
        "id": "Go3hyuYYZl6U",
        "colab_type": "code",
        "outputId": "c2a731d0-d579-4d50-a633-a0f4582f5571",
        "colab": {
          "base_uri": "https://localhost:8080/",
          "height": 363
        }
      },
      "source": [
        "import pandas as pd\n",
        "filname = '/content/drive/My Drive/fer2013.csv'\n",
        "label_map = ['Anger', 'Disgust', 'Fear', 'Happy', 'Sad', 'Surprise', 'Neutral']\n",
        "names=['emotion','pixels','usage']\n",
        "df=pd.read_csv('/content/drive/My Drive/fer2013.csv',names=names, na_filter=False)\n",
        "im=df['pixels']\n",
        "df.head(10)"
      ],
      "execution_count": 0,
      "outputs": [
        {
          "output_type": "execute_result",
          "data": {
            "text/html": [
              "<div>\n",
              "<style scoped>\n",
              "    .dataframe tbody tr th:only-of-type {\n",
              "        vertical-align: middle;\n",
              "    }\n",
              "\n",
              "    .dataframe tbody tr th {\n",
              "        vertical-align: top;\n",
              "    }\n",
              "\n",
              "    .dataframe thead th {\n",
              "        text-align: right;\n",
              "    }\n",
              "</style>\n",
              "<table border=\"1\" class=\"dataframe\">\n",
              "  <thead>\n",
              "    <tr style=\"text-align: right;\">\n",
              "      <th></th>\n",
              "      <th>emotion</th>\n",
              "      <th>pixels</th>\n",
              "      <th>usage</th>\n",
              "    </tr>\n",
              "  </thead>\n",
              "  <tbody>\n",
              "    <tr>\n",
              "      <th>0</th>\n",
              "      <td>emotion</td>\n",
              "      <td>pixels</td>\n",
              "      <td>Usage</td>\n",
              "    </tr>\n",
              "    <tr>\n",
              "      <th>1</th>\n",
              "      <td>0</td>\n",
              "      <td>70 80 82 72 58 58 60 63 54 58 60 48 89 115 121...</td>\n",
              "      <td>Training</td>\n",
              "    </tr>\n",
              "    <tr>\n",
              "      <th>2</th>\n",
              "      <td>0</td>\n",
              "      <td>151 150 147 155 148 133 111 140 170 174 182 15...</td>\n",
              "      <td>Training</td>\n",
              "    </tr>\n",
              "    <tr>\n",
              "      <th>3</th>\n",
              "      <td>2</td>\n",
              "      <td>231 212 156 164 174 138 161 173 182 200 106 38...</td>\n",
              "      <td>Training</td>\n",
              "    </tr>\n",
              "    <tr>\n",
              "      <th>4</th>\n",
              "      <td>4</td>\n",
              "      <td>24 32 36 30 32 23 19 20 30 41 21 22 32 34 21 1...</td>\n",
              "      <td>Training</td>\n",
              "    </tr>\n",
              "    <tr>\n",
              "      <th>5</th>\n",
              "      <td>6</td>\n",
              "      <td>4 0 0 0 0 0 0 0 0 0 0 0 3 15 23 28 48 50 58 84...</td>\n",
              "      <td>Training</td>\n",
              "    </tr>\n",
              "    <tr>\n",
              "      <th>6</th>\n",
              "      <td>2</td>\n",
              "      <td>55 55 55 55 55 54 60 68 54 85 151 163 170 179 ...</td>\n",
              "      <td>Training</td>\n",
              "    </tr>\n",
              "    <tr>\n",
              "      <th>7</th>\n",
              "      <td>4</td>\n",
              "      <td>20 17 19 21 25 38 42 42 46 54 56 62 63 66 82 1...</td>\n",
              "      <td>Training</td>\n",
              "    </tr>\n",
              "    <tr>\n",
              "      <th>8</th>\n",
              "      <td>3</td>\n",
              "      <td>77 78 79 79 78 75 60 55 47 48 58 73 77 79 57 5...</td>\n",
              "      <td>Training</td>\n",
              "    </tr>\n",
              "    <tr>\n",
              "      <th>9</th>\n",
              "      <td>3</td>\n",
              "      <td>85 84 90 121 101 102 133 153 153 169 177 189 1...</td>\n",
              "      <td>Training</td>\n",
              "    </tr>\n",
              "  </tbody>\n",
              "</table>\n",
              "</div>"
            ],
            "text/plain": [
              "   emotion                                             pixels     usage\n",
              "0  emotion                                             pixels     Usage\n",
              "1        0  70 80 82 72 58 58 60 63 54 58 60 48 89 115 121...  Training\n",
              "2        0  151 150 147 155 148 133 111 140 170 174 182 15...  Training\n",
              "3        2  231 212 156 164 174 138 161 173 182 200 106 38...  Training\n",
              "4        4  24 32 36 30 32 23 19 20 30 41 21 22 32 34 21 1...  Training\n",
              "5        6  4 0 0 0 0 0 0 0 0 0 0 0 3 15 23 28 48 50 58 84...  Training\n",
              "6        2  55 55 55 55 55 54 60 68 54 85 151 163 170 179 ...  Training\n",
              "7        4  20 17 19 21 25 38 42 42 46 54 56 62 63 66 82 1...  Training\n",
              "8        3  77 78 79 79 78 75 60 55 47 48 58 73 77 79 57 5...  Training\n",
              "9        3  85 84 90 121 101 102 133 153 153 169 177 189 1...  Training"
            ]
          },
          "metadata": {
            "tags": []
          },
          "execution_count": 6
        }
      ]
    },
    {
      "cell_type": "code",
      "metadata": {
        "id": "Uq9z7IVekr7r",
        "colab_type": "code",
        "colab": {}
      },
      "source": [
        "def getData(filname):\n",
        "    # images are 48x48\n",
        "    # N = 35887\n",
        "    Y = []\n",
        "    X = []\n",
        "    first = True\n",
        "    for line in open(filname):\n",
        "        if first:\n",
        "            first = False\n",
        "        else:\n",
        "            row = line.split(',')\n",
        "            Y.append(int(row[0]))\n",
        "            X.append([int(p) for p in row[1].split()])\n",
        "\n",
        "    X, Y = np.array(X) / 255.0, np.array(Y)\n",
        "    return X, Y"
      ],
      "execution_count": 0,
      "outputs": []
    },
    {
      "cell_type": "code",
      "metadata": {
        "id": "_heoeBGEkwdk",
        "colab_type": "code",
        "outputId": "a343b1ba-d8a7-42ac-9903-d44c238d7544",
        "colab": {
          "base_uri": "https://localhost:8080/",
          "height": 35
        }
      },
      "source": [
        "X, Y = getData(filname)\n",
        "num_class = len(set(Y))\n",
        "print(num_class)\n"
      ],
      "execution_count": 0,
      "outputs": [
        {
          "output_type": "stream",
          "text": [
            "7\n"
          ],
          "name": "stdout"
        }
      ]
    },
    {
      "cell_type": "code",
      "metadata": {
        "id": "KA_x4jXak5rl",
        "colab_type": "code",
        "colab": {}
      },
      "source": [
        "from sklearn.model_selection import train_test_split\n",
        "\n",
        "X_train, X_test, y_train, y_test = train_test_split(X, Y, test_size=0.1, random_state=0)\n",
        "#y_train = (np.arange(num_class) == y_train[:, None]).astype(np.float32)\n",
        "#y_test = (np.arange(num_class) == y_test[:, None]).astype(np.float32)\n"
      ],
      "execution_count": 0,
      "outputs": []
    },
    {
      "cell_type": "code",
      "metadata": {
        "id": "fa6D5TIbk8LA",
        "colab_type": "code",
        "colab": {}
      },
      "source": [
        "pca=PCA(0.8)\n",
        "X_3D =  pca.fit_transform(X_train)\n",
        "print(X_train.shape,X_3D.shape)\n",
        "print('Principal Components shape = ', pca.components_.shape)\n",
        "print('Variance Ratio = ', pca.explained_variance_ratio_)\n",
        "\n",
        "plt.semilogx(np.cumsum(pca.explained_variance_ratio_))\n",
        "plt.xlabel('Number of Components')\n",
        "plt.ylabel('Variance retained')\n",
        "plt.ylim(0,1)\n",
        "plt.show()"
      ],
      "execution_count": 0,
      "outputs": []
    },
    {
      "cell_type": "code",
      "metadata": {
        "id": "XjcTpdGNtM5d",
        "colab_type": "code",
        "outputId": "054492f6-d524-465d-bc47-421974f5f1d1",
        "colab": {
          "base_uri": "https://localhost:8080/",
          "height": 184
        }
      },
      "source": [
        "train_img_lda,pred_lda = get_lda(X_train,y_train,256)\n",
        "test_img_lda=pred_lda.fit_transform(X_train,y_train)\n",
        "#predict=lda.predict(X_test)"
      ],
      "execution_count": 0,
      "outputs": [
        {
          "output_type": "stream",
          "text": [
            "/usr/local/lib/python3.6/dist-packages/sklearn/discriminant_analysis.py:466: ChangedBehaviorWarning: n_components cannot be larger than min(n_features, n_classes - 1). Using min(n_features, n_classes - 1) = min(2304, 7 - 1) = 6 components.\n",
            "  ChangedBehaviorWarning)\n",
            "/usr/local/lib/python3.6/dist-packages/sklearn/discriminant_analysis.py:472: FutureWarning: In version 0.23, setting n_components > min(n_features, n_classes - 1) will raise a ValueError. You should set n_components to None (default), or a value smaller or equal to min(n_features, n_classes - 1).\n",
            "  warnings.warn(future_msg, FutureWarning)\n",
            "/usr/local/lib/python3.6/dist-packages/sklearn/discriminant_analysis.py:466: ChangedBehaviorWarning: n_components cannot be larger than min(n_features, n_classes - 1). Using min(n_features, n_classes - 1) = min(2304, 7 - 1) = 6 components.\n",
            "  ChangedBehaviorWarning)\n",
            "/usr/local/lib/python3.6/dist-packages/sklearn/discriminant_analysis.py:472: FutureWarning: In version 0.23, setting n_components > min(n_features, n_classes - 1) will raise a ValueError. You should set n_components to None (default), or a value smaller or equal to min(n_features, n_classes - 1).\n",
            "  warnings.warn(future_msg, FutureWarning)\n"
          ],
          "name": "stderr"
        }
      ]
    },
    {
      "cell_type": "code",
      "metadata": {
        "id": "IugziP88nOjZ",
        "colab_type": "code",
        "colab": {}
      },
      "source": [
        "from sklearn.neural_network import MLPClassifier\n",
        "from sklearn.metrics import classification_report\n",
        "from sklearn.metrics import accuracy_score\n",
        "from sklearn.model_selection import train_test_split\n",
        "clf = MLPClassifier(hidden_layer_sizes=(1024,), batch_size=256, verbose=False,\n",
        "                              early_stopping=False,max_iter=50,activation='relu',momentum=0.9)\n",
        "clf.fit(X_3D[1:1024],y_train[1:1024])\n",
        "prediction = clf.predict(X_test[1:100])"
      ],
      "execution_count": 0,
      "outputs": []
    },
    {
      "cell_type": "code",
      "metadata": {
        "id": "78a6SmXGn1tE",
        "colab_type": "code",
        "outputId": "ad67b387-972e-4351-b28c-213676bf8eb1",
        "colab": {
          "base_uri": "https://localhost:8080/",
          "height": 182
        }
      },
      "source": [
        "from sklearn.metrics import confusion_matrix\n",
        "from sklearn.metrics import accuracy_score\n",
        "predict=pred_lda.predict(X_test[1:100])\n",
        "predict_score=accuracy_score(y_test[1:100],predict)\n",
        "print('prediction accuracy', predict_score)\n",
        "cm = confusion_matrix(predict,y_test[1:100])\n",
        "print('confusion matrix')\n",
        "print(cm)"
      ],
      "execution_count": 0,
      "outputs": [
        {
          "output_type": "stream",
          "text": [
            "prediction accuracy 0.31313131313131315\n",
            "confusion matrix\n",
            "[[ 3  1  3  5  1  1  0]\n",
            " [ 0  1  0  1  0  0  0]\n",
            " [ 1  0  2  0  3  1  2]\n",
            " [ 4  0  6 10  3  2  5]\n",
            " [ 4  0  2  4  3  1  5]\n",
            " [ 1  0  0  0  1  9  2]\n",
            " [ 2  0  2  1  3  1  3]]\n"
          ],
          "name": "stdout"
        }
      ]
    }
  ]
}